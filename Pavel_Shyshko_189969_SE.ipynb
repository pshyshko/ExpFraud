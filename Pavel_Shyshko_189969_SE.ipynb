{
  "nbformat": 4,
  "nbformat_minor": 0,
  "metadata": {
    "colab": {
      "name": "Pavel_Shyshko_189969_SE.ipynb",
      "provenance": [],
      "collapsed_sections": [],
      "authorship_tag": "ABX9TyPW4ZgkPGIFYijT0FpbuCme",
      "include_colab_link": true
    },
    "kernelspec": {
      "display_name": "Python 3",
      "name": "python3"
    },
    "language_info": {
      "name": "python"
    }
  },
  "cells": [
    {
      "cell_type": "markdown",
      "metadata": {
        "id": "view-in-github",
        "colab_type": "text"
      },
      "source": [
        "<a href=\"https://colab.research.google.com/github/pshyshko/ExpFraud/blob/master/Pavel_Shyshko_189969_SE.ipynb\" target=\"_parent\"><img src=\"https://colab.research.google.com/assets/colab-badge.svg\" alt=\"Open In Colab\"/></a>"
      ]
    },
    {
      "cell_type": "code",
      "metadata": {
        "id": "HmLgiZHpbYVx"
      },
      "source": [
        "import pandas as pd\n",
        "import numpy as np\n",
        "import seaborn as sns\n",
        "import matplotlib.pyplot as plt\n",
        "import keras\n",
        "from sklearn.impute import SimpleImputer\n",
        "from sklearn.preprocessing import StandardScaler\n",
        "from sklearn.preprocessing import Normalizer\n",
        "from sklearn.discriminant_analysis import LinearDiscriminantAnalysis as LDA\n",
        "from sklearn.discriminant_analysis import QuadraticDiscriminantAnalysis as QDA\n",
        "import tensorflow as tf\n",
        "import random\n",
        "import os\n",
        "\n",
        "import numpy as np\n",
        "\n",
        "seed_value = 0\n",
        "os.environ['PYTHONHASHSEED']=str(seed_value)\n",
        "random.seed(seed_value)\n",
        "np.random.seed(seed_value)\n",
        "tf.random.set_seed(seed_value)\n",
        "\n",
        "from mlxtend.plotting import plot_confusion_matrix\n",
        "import matplotlib.pyplot as plt\n",
        "import numpy as np\n",
        "from sklearn.linear_model import LogisticRegression\n",
        "from sklearn.metrics import confusion_matrix"
      ],
      "execution_count": 242,
      "outputs": []
    },
    {
      "cell_type": "code",
      "metadata": {
        "id": "HeghWpvWw3XI",
        "colab": {
          "base_uri": "https://localhost:8080/",
          "height": 0
        },
        "outputId": "2c8e2950-6003-4042-8c04-29854f815168"
      },
      "source": [
        "from google.colab import drive\n",
        "drive.mount('/content/drive')"
      ],
      "execution_count": 243,
      "outputs": [
        {
          "output_type": "stream",
          "name": "stdout",
          "text": [
            "Drive already mounted at /content/drive; to attempt to forcibly remount, call drive.mount(\"/content/drive\", force_remount=True).\n"
          ]
        }
      ]
    },
    {
      "cell_type": "markdown",
      "metadata": {
        "id": "AHSo8UEWEI-x"
      },
      "source": [
        "## **Zbiór danych**"
      ]
    },
    {
      "cell_type": "markdown",
      "metadata": {
        "id": "6IbxaiaxEWyY"
      },
      "source": [
        "Ten zestaw danych zawiera informacje o płatnościach zaległych, czynniki demograficzne, dane kredytowe, historię płatności oraz wyciągi z rachunków klientów kart kredytowych na Tajwanie od kwietnia 2005 do września 2005.\n",
        "\n",
        "https://archive.ics.uci.edu/ml/datasets/default+of+credit+card+clients"
      ]
    },
    {
      "cell_type": "markdown",
      "metadata": {
        "id": "Q8QeEAm7EaBF"
      },
      "source": [
        "25 zmiennych:\n",
        "\n",
        "1. ID: Identyfikator każdego klienta.\n",
        "2. LIMIT_BAL: Kwota udzielonego kredytu w dolarach NT (obejmuje kredyt indywidualny i rodzinny/uzupełniający).\n",
        "3. SEX: Płeć (1=mężczyzna, 2=kobieta)\n",
        "4. EDUCATION: (1=szkole wyższe, 2=uniwersytet, 3=szkole średnie, 4=inne, 5=nieznane, 6=nieznane)\n",
        "5. MARRIAGE: Stan cywilny (1=małżeński, 2=samotny, 3=inne)\n",
        "6. AGE: Wiek w latach\n",
        "7. PAY_0: Status spłaty we wrześniu 2005 r. (-1=płacić należycie, 1=opóźnienie w płatności za jeden miesiąc, 2=opóźnienie w płatności za dwa miesiące, ... 8=opóźnienie w płatności za osiem miesięcy, 9=opóźnienie w płatności za dziewięć miesięcy i więcej)\n",
        "8. PAY_2: Status spłaty w sierpniu 2005 r. (skala taka sama jak powyżej)\n",
        "9. PAY_3: Status spłaty w lipcu 2005 r. (skala taka sama jak powyżej)\n",
        "10. PAY_4: Status spłaty w czerwcu 2005 r. (skala taka sama jak powyżej)\n",
        "11. PAY_5: Status spłaty w maju 2005 r. (skala taka sama jak powyżej)\n",
        "12. PAY_6: Status spłaty w kwietniu 2005 r. (skala taka sama jak powyżej)\n",
        "13. BILL_AMT1: Zestawienie kwoty weksli we wrześniu 2005 r. (dolar NT)\n",
        "14. BILL_AMT2: Zestawienie kwoty weksli w sierpniu 2005 r. (dolar NT)\n",
        "15. BILL_AMT3: Zestawienie kwoty weksli w lipcu 2005 r. (dolar NT)\n",
        "16. BILL_AMT4: Zestawienie kwoty weksli w czerwcu 2005 r. (dolar NT)\n",
        "17. BILL_AMT5: Zestawienie kwoty weksli w maju 2005 r. (dolar NT)\n",
        "18. BILL_AMT6: Zestawienie kwoty weksli w kwietniu 2005 r. (dolar NT)\n",
        "19. PAY_AMT1: Kwota poprzedniej płatności we wrześniu 2005 r. (NT dolarów)\n",
        "20. PAY_AMT2: Kwota poprzedniej płatności w sierpniu 2005 r. (NT dolarów)\n",
        "21. PAY_AMT3: Kwota poprzedniej płatności w lipcu 2005 r. (NT dolarów)\n",
        "22. PAY_AMT4: Kwota poprzedniej płatności w czerwcu 2005 r. (NT dolarów\n",
        "23. PAY_AMT5: Kwota poprzedniej płatności w maju 2005 r. (NT dolarów)\n",
        "24. PAY_AMT6: Kwota poprzedniej płatności w kwietniu 2005 r. (NT dolarów)\n",
        "25. default.payment.next.month: Płatność domyślna (1=tak, 0=nie)"
      ]
    },
    {
      "cell_type": "code",
      "metadata": {
        "id": "rrqluZvzbvbS",
        "colab": {
          "base_uri": "https://localhost:8080/",
          "height": 278
        },
        "outputId": "e05ff33a-5310-4963-ba66-046f92682a48"
      },
      "source": [
        "df = pd.read_excel('/content/drive/MyDrive/dataset/bank/default_credit_card.xls', header=1)\n",
        "df.head()"
      ],
      "execution_count": 244,
      "outputs": [
        {
          "output_type": "execute_result",
          "data": {
            "text/html": [
              "<div>\n",
              "<style scoped>\n",
              "    .dataframe tbody tr th:only-of-type {\n",
              "        vertical-align: middle;\n",
              "    }\n",
              "\n",
              "    .dataframe tbody tr th {\n",
              "        vertical-align: top;\n",
              "    }\n",
              "\n",
              "    .dataframe thead th {\n",
              "        text-align: right;\n",
              "    }\n",
              "</style>\n",
              "<table border=\"1\" class=\"dataframe\">\n",
              "  <thead>\n",
              "    <tr style=\"text-align: right;\">\n",
              "      <th></th>\n",
              "      <th>ID</th>\n",
              "      <th>LIMIT_BAL</th>\n",
              "      <th>SEX</th>\n",
              "      <th>EDUCATION</th>\n",
              "      <th>MARRIAGE</th>\n",
              "      <th>AGE</th>\n",
              "      <th>PAY_0</th>\n",
              "      <th>PAY_2</th>\n",
              "      <th>PAY_3</th>\n",
              "      <th>PAY_4</th>\n",
              "      <th>PAY_5</th>\n",
              "      <th>PAY_6</th>\n",
              "      <th>BILL_AMT1</th>\n",
              "      <th>BILL_AMT2</th>\n",
              "      <th>BILL_AMT3</th>\n",
              "      <th>BILL_AMT4</th>\n",
              "      <th>BILL_AMT5</th>\n",
              "      <th>BILL_AMT6</th>\n",
              "      <th>PAY_AMT1</th>\n",
              "      <th>PAY_AMT2</th>\n",
              "      <th>PAY_AMT3</th>\n",
              "      <th>PAY_AMT4</th>\n",
              "      <th>PAY_AMT5</th>\n",
              "      <th>PAY_AMT6</th>\n",
              "      <th>default payment next month</th>\n",
              "    </tr>\n",
              "  </thead>\n",
              "  <tbody>\n",
              "    <tr>\n",
              "      <th>0</th>\n",
              "      <td>1</td>\n",
              "      <td>20000</td>\n",
              "      <td>2</td>\n",
              "      <td>2</td>\n",
              "      <td>1</td>\n",
              "      <td>24</td>\n",
              "      <td>2</td>\n",
              "      <td>2</td>\n",
              "      <td>-1</td>\n",
              "      <td>-1</td>\n",
              "      <td>-2</td>\n",
              "      <td>-2</td>\n",
              "      <td>3913</td>\n",
              "      <td>3102</td>\n",
              "      <td>689</td>\n",
              "      <td>0</td>\n",
              "      <td>0</td>\n",
              "      <td>0</td>\n",
              "      <td>0</td>\n",
              "      <td>689</td>\n",
              "      <td>0</td>\n",
              "      <td>0</td>\n",
              "      <td>0</td>\n",
              "      <td>0</td>\n",
              "      <td>1</td>\n",
              "    </tr>\n",
              "    <tr>\n",
              "      <th>1</th>\n",
              "      <td>2</td>\n",
              "      <td>120000</td>\n",
              "      <td>2</td>\n",
              "      <td>2</td>\n",
              "      <td>2</td>\n",
              "      <td>26</td>\n",
              "      <td>-1</td>\n",
              "      <td>2</td>\n",
              "      <td>0</td>\n",
              "      <td>0</td>\n",
              "      <td>0</td>\n",
              "      <td>2</td>\n",
              "      <td>2682</td>\n",
              "      <td>1725</td>\n",
              "      <td>2682</td>\n",
              "      <td>3272</td>\n",
              "      <td>3455</td>\n",
              "      <td>3261</td>\n",
              "      <td>0</td>\n",
              "      <td>1000</td>\n",
              "      <td>1000</td>\n",
              "      <td>1000</td>\n",
              "      <td>0</td>\n",
              "      <td>2000</td>\n",
              "      <td>1</td>\n",
              "    </tr>\n",
              "    <tr>\n",
              "      <th>2</th>\n",
              "      <td>3</td>\n",
              "      <td>90000</td>\n",
              "      <td>2</td>\n",
              "      <td>2</td>\n",
              "      <td>2</td>\n",
              "      <td>34</td>\n",
              "      <td>0</td>\n",
              "      <td>0</td>\n",
              "      <td>0</td>\n",
              "      <td>0</td>\n",
              "      <td>0</td>\n",
              "      <td>0</td>\n",
              "      <td>29239</td>\n",
              "      <td>14027</td>\n",
              "      <td>13559</td>\n",
              "      <td>14331</td>\n",
              "      <td>14948</td>\n",
              "      <td>15549</td>\n",
              "      <td>1518</td>\n",
              "      <td>1500</td>\n",
              "      <td>1000</td>\n",
              "      <td>1000</td>\n",
              "      <td>1000</td>\n",
              "      <td>5000</td>\n",
              "      <td>0</td>\n",
              "    </tr>\n",
              "    <tr>\n",
              "      <th>3</th>\n",
              "      <td>4</td>\n",
              "      <td>50000</td>\n",
              "      <td>2</td>\n",
              "      <td>2</td>\n",
              "      <td>1</td>\n",
              "      <td>37</td>\n",
              "      <td>0</td>\n",
              "      <td>0</td>\n",
              "      <td>0</td>\n",
              "      <td>0</td>\n",
              "      <td>0</td>\n",
              "      <td>0</td>\n",
              "      <td>46990</td>\n",
              "      <td>48233</td>\n",
              "      <td>49291</td>\n",
              "      <td>28314</td>\n",
              "      <td>28959</td>\n",
              "      <td>29547</td>\n",
              "      <td>2000</td>\n",
              "      <td>2019</td>\n",
              "      <td>1200</td>\n",
              "      <td>1100</td>\n",
              "      <td>1069</td>\n",
              "      <td>1000</td>\n",
              "      <td>0</td>\n",
              "    </tr>\n",
              "    <tr>\n",
              "      <th>4</th>\n",
              "      <td>5</td>\n",
              "      <td>50000</td>\n",
              "      <td>1</td>\n",
              "      <td>2</td>\n",
              "      <td>1</td>\n",
              "      <td>57</td>\n",
              "      <td>-1</td>\n",
              "      <td>0</td>\n",
              "      <td>-1</td>\n",
              "      <td>0</td>\n",
              "      <td>0</td>\n",
              "      <td>0</td>\n",
              "      <td>8617</td>\n",
              "      <td>5670</td>\n",
              "      <td>35835</td>\n",
              "      <td>20940</td>\n",
              "      <td>19146</td>\n",
              "      <td>19131</td>\n",
              "      <td>2000</td>\n",
              "      <td>36681</td>\n",
              "      <td>10000</td>\n",
              "      <td>9000</td>\n",
              "      <td>689</td>\n",
              "      <td>679</td>\n",
              "      <td>0</td>\n",
              "    </tr>\n",
              "  </tbody>\n",
              "</table>\n",
              "</div>"
            ],
            "text/plain": [
              "   ID  LIMIT_BAL  SEX  ...  PAY_AMT5  PAY_AMT6  default payment next month\n",
              "0   1      20000    2  ...         0         0                           1\n",
              "1   2     120000    2  ...         0      2000                           1\n",
              "2   3      90000    2  ...      1000      5000                           0\n",
              "3   4      50000    2  ...      1069      1000                           0\n",
              "4   5      50000    1  ...       689       679                           0\n",
              "\n",
              "[5 rows x 25 columns]"
            ]
          },
          "metadata": {},
          "execution_count": 244
        }
      ]
    },
    {
      "cell_type": "code",
      "metadata": {
        "id": "yLElSJ_yQhTB",
        "colab": {
          "base_uri": "https://localhost:8080/",
          "height": 226
        },
        "outputId": "7f054f70-7e5b-4d5e-935c-b36562550472"
      },
      "source": [
        "df = df.drop(['ID'], axis=1)\n",
        "df = df.rename(columns={'default payment next month': 'target'})\n",
        "df.head()"
      ],
      "execution_count": 245,
      "outputs": [
        {
          "output_type": "execute_result",
          "data": {
            "text/html": [
              "<div>\n",
              "<style scoped>\n",
              "    .dataframe tbody tr th:only-of-type {\n",
              "        vertical-align: middle;\n",
              "    }\n",
              "\n",
              "    .dataframe tbody tr th {\n",
              "        vertical-align: top;\n",
              "    }\n",
              "\n",
              "    .dataframe thead th {\n",
              "        text-align: right;\n",
              "    }\n",
              "</style>\n",
              "<table border=\"1\" class=\"dataframe\">\n",
              "  <thead>\n",
              "    <tr style=\"text-align: right;\">\n",
              "      <th></th>\n",
              "      <th>LIMIT_BAL</th>\n",
              "      <th>SEX</th>\n",
              "      <th>EDUCATION</th>\n",
              "      <th>MARRIAGE</th>\n",
              "      <th>AGE</th>\n",
              "      <th>PAY_0</th>\n",
              "      <th>PAY_2</th>\n",
              "      <th>PAY_3</th>\n",
              "      <th>PAY_4</th>\n",
              "      <th>PAY_5</th>\n",
              "      <th>PAY_6</th>\n",
              "      <th>BILL_AMT1</th>\n",
              "      <th>BILL_AMT2</th>\n",
              "      <th>BILL_AMT3</th>\n",
              "      <th>BILL_AMT4</th>\n",
              "      <th>BILL_AMT5</th>\n",
              "      <th>BILL_AMT6</th>\n",
              "      <th>PAY_AMT1</th>\n",
              "      <th>PAY_AMT2</th>\n",
              "      <th>PAY_AMT3</th>\n",
              "      <th>PAY_AMT4</th>\n",
              "      <th>PAY_AMT5</th>\n",
              "      <th>PAY_AMT6</th>\n",
              "      <th>target</th>\n",
              "    </tr>\n",
              "  </thead>\n",
              "  <tbody>\n",
              "    <tr>\n",
              "      <th>0</th>\n",
              "      <td>20000</td>\n",
              "      <td>2</td>\n",
              "      <td>2</td>\n",
              "      <td>1</td>\n",
              "      <td>24</td>\n",
              "      <td>2</td>\n",
              "      <td>2</td>\n",
              "      <td>-1</td>\n",
              "      <td>-1</td>\n",
              "      <td>-2</td>\n",
              "      <td>-2</td>\n",
              "      <td>3913</td>\n",
              "      <td>3102</td>\n",
              "      <td>689</td>\n",
              "      <td>0</td>\n",
              "      <td>0</td>\n",
              "      <td>0</td>\n",
              "      <td>0</td>\n",
              "      <td>689</td>\n",
              "      <td>0</td>\n",
              "      <td>0</td>\n",
              "      <td>0</td>\n",
              "      <td>0</td>\n",
              "      <td>1</td>\n",
              "    </tr>\n",
              "    <tr>\n",
              "      <th>1</th>\n",
              "      <td>120000</td>\n",
              "      <td>2</td>\n",
              "      <td>2</td>\n",
              "      <td>2</td>\n",
              "      <td>26</td>\n",
              "      <td>-1</td>\n",
              "      <td>2</td>\n",
              "      <td>0</td>\n",
              "      <td>0</td>\n",
              "      <td>0</td>\n",
              "      <td>2</td>\n",
              "      <td>2682</td>\n",
              "      <td>1725</td>\n",
              "      <td>2682</td>\n",
              "      <td>3272</td>\n",
              "      <td>3455</td>\n",
              "      <td>3261</td>\n",
              "      <td>0</td>\n",
              "      <td>1000</td>\n",
              "      <td>1000</td>\n",
              "      <td>1000</td>\n",
              "      <td>0</td>\n",
              "      <td>2000</td>\n",
              "      <td>1</td>\n",
              "    </tr>\n",
              "    <tr>\n",
              "      <th>2</th>\n",
              "      <td>90000</td>\n",
              "      <td>2</td>\n",
              "      <td>2</td>\n",
              "      <td>2</td>\n",
              "      <td>34</td>\n",
              "      <td>0</td>\n",
              "      <td>0</td>\n",
              "      <td>0</td>\n",
              "      <td>0</td>\n",
              "      <td>0</td>\n",
              "      <td>0</td>\n",
              "      <td>29239</td>\n",
              "      <td>14027</td>\n",
              "      <td>13559</td>\n",
              "      <td>14331</td>\n",
              "      <td>14948</td>\n",
              "      <td>15549</td>\n",
              "      <td>1518</td>\n",
              "      <td>1500</td>\n",
              "      <td>1000</td>\n",
              "      <td>1000</td>\n",
              "      <td>1000</td>\n",
              "      <td>5000</td>\n",
              "      <td>0</td>\n",
              "    </tr>\n",
              "    <tr>\n",
              "      <th>3</th>\n",
              "      <td>50000</td>\n",
              "      <td>2</td>\n",
              "      <td>2</td>\n",
              "      <td>1</td>\n",
              "      <td>37</td>\n",
              "      <td>0</td>\n",
              "      <td>0</td>\n",
              "      <td>0</td>\n",
              "      <td>0</td>\n",
              "      <td>0</td>\n",
              "      <td>0</td>\n",
              "      <td>46990</td>\n",
              "      <td>48233</td>\n",
              "      <td>49291</td>\n",
              "      <td>28314</td>\n",
              "      <td>28959</td>\n",
              "      <td>29547</td>\n",
              "      <td>2000</td>\n",
              "      <td>2019</td>\n",
              "      <td>1200</td>\n",
              "      <td>1100</td>\n",
              "      <td>1069</td>\n",
              "      <td>1000</td>\n",
              "      <td>0</td>\n",
              "    </tr>\n",
              "    <tr>\n",
              "      <th>4</th>\n",
              "      <td>50000</td>\n",
              "      <td>1</td>\n",
              "      <td>2</td>\n",
              "      <td>1</td>\n",
              "      <td>57</td>\n",
              "      <td>-1</td>\n",
              "      <td>0</td>\n",
              "      <td>-1</td>\n",
              "      <td>0</td>\n",
              "      <td>0</td>\n",
              "      <td>0</td>\n",
              "      <td>8617</td>\n",
              "      <td>5670</td>\n",
              "      <td>35835</td>\n",
              "      <td>20940</td>\n",
              "      <td>19146</td>\n",
              "      <td>19131</td>\n",
              "      <td>2000</td>\n",
              "      <td>36681</td>\n",
              "      <td>10000</td>\n",
              "      <td>9000</td>\n",
              "      <td>689</td>\n",
              "      <td>679</td>\n",
              "      <td>0</td>\n",
              "    </tr>\n",
              "  </tbody>\n",
              "</table>\n",
              "</div>"
            ],
            "text/plain": [
              "   LIMIT_BAL  SEX  EDUCATION  MARRIAGE  ...  PAY_AMT4  PAY_AMT5  PAY_AMT6  target\n",
              "0      20000    2          2         1  ...         0         0         0       1\n",
              "1     120000    2          2         2  ...      1000         0      2000       1\n",
              "2      90000    2          2         2  ...      1000      1000      5000       0\n",
              "3      50000    2          2         1  ...      1100      1069      1000       0\n",
              "4      50000    1          2         1  ...      9000       689       679       0\n",
              "\n",
              "[5 rows x 24 columns]"
            ]
          },
          "metadata": {},
          "execution_count": 245
        }
      ]
    },
    {
      "cell_type": "markdown",
      "metadata": {
        "id": "fa4rSomucw-A"
      },
      "source": [
        "# **1. Eksploracja danych**"
      ]
    },
    {
      "cell_type": "code",
      "metadata": {
        "id": "gj8ZCd1mdhRi",
        "colab": {
          "base_uri": "https://localhost:8080/",
          "height": 383
        },
        "outputId": "1fb74426-8815-49e7-f3d8-dabea7a35f18"
      },
      "source": [
        "df.head(10)"
      ],
      "execution_count": 246,
      "outputs": [
        {
          "output_type": "execute_result",
          "data": {
            "text/html": [
              "<div>\n",
              "<style scoped>\n",
              "    .dataframe tbody tr th:only-of-type {\n",
              "        vertical-align: middle;\n",
              "    }\n",
              "\n",
              "    .dataframe tbody tr th {\n",
              "        vertical-align: top;\n",
              "    }\n",
              "\n",
              "    .dataframe thead th {\n",
              "        text-align: right;\n",
              "    }\n",
              "</style>\n",
              "<table border=\"1\" class=\"dataframe\">\n",
              "  <thead>\n",
              "    <tr style=\"text-align: right;\">\n",
              "      <th></th>\n",
              "      <th>LIMIT_BAL</th>\n",
              "      <th>SEX</th>\n",
              "      <th>EDUCATION</th>\n",
              "      <th>MARRIAGE</th>\n",
              "      <th>AGE</th>\n",
              "      <th>PAY_0</th>\n",
              "      <th>PAY_2</th>\n",
              "      <th>PAY_3</th>\n",
              "      <th>PAY_4</th>\n",
              "      <th>PAY_5</th>\n",
              "      <th>PAY_6</th>\n",
              "      <th>BILL_AMT1</th>\n",
              "      <th>BILL_AMT2</th>\n",
              "      <th>BILL_AMT3</th>\n",
              "      <th>BILL_AMT4</th>\n",
              "      <th>BILL_AMT5</th>\n",
              "      <th>BILL_AMT6</th>\n",
              "      <th>PAY_AMT1</th>\n",
              "      <th>PAY_AMT2</th>\n",
              "      <th>PAY_AMT3</th>\n",
              "      <th>PAY_AMT4</th>\n",
              "      <th>PAY_AMT5</th>\n",
              "      <th>PAY_AMT6</th>\n",
              "      <th>target</th>\n",
              "    </tr>\n",
              "  </thead>\n",
              "  <tbody>\n",
              "    <tr>\n",
              "      <th>0</th>\n",
              "      <td>20000</td>\n",
              "      <td>2</td>\n",
              "      <td>2</td>\n",
              "      <td>1</td>\n",
              "      <td>24</td>\n",
              "      <td>2</td>\n",
              "      <td>2</td>\n",
              "      <td>-1</td>\n",
              "      <td>-1</td>\n",
              "      <td>-2</td>\n",
              "      <td>-2</td>\n",
              "      <td>3913</td>\n",
              "      <td>3102</td>\n",
              "      <td>689</td>\n",
              "      <td>0</td>\n",
              "      <td>0</td>\n",
              "      <td>0</td>\n",
              "      <td>0</td>\n",
              "      <td>689</td>\n",
              "      <td>0</td>\n",
              "      <td>0</td>\n",
              "      <td>0</td>\n",
              "      <td>0</td>\n",
              "      <td>1</td>\n",
              "    </tr>\n",
              "    <tr>\n",
              "      <th>1</th>\n",
              "      <td>120000</td>\n",
              "      <td>2</td>\n",
              "      <td>2</td>\n",
              "      <td>2</td>\n",
              "      <td>26</td>\n",
              "      <td>-1</td>\n",
              "      <td>2</td>\n",
              "      <td>0</td>\n",
              "      <td>0</td>\n",
              "      <td>0</td>\n",
              "      <td>2</td>\n",
              "      <td>2682</td>\n",
              "      <td>1725</td>\n",
              "      <td>2682</td>\n",
              "      <td>3272</td>\n",
              "      <td>3455</td>\n",
              "      <td>3261</td>\n",
              "      <td>0</td>\n",
              "      <td>1000</td>\n",
              "      <td>1000</td>\n",
              "      <td>1000</td>\n",
              "      <td>0</td>\n",
              "      <td>2000</td>\n",
              "      <td>1</td>\n",
              "    </tr>\n",
              "    <tr>\n",
              "      <th>2</th>\n",
              "      <td>90000</td>\n",
              "      <td>2</td>\n",
              "      <td>2</td>\n",
              "      <td>2</td>\n",
              "      <td>34</td>\n",
              "      <td>0</td>\n",
              "      <td>0</td>\n",
              "      <td>0</td>\n",
              "      <td>0</td>\n",
              "      <td>0</td>\n",
              "      <td>0</td>\n",
              "      <td>29239</td>\n",
              "      <td>14027</td>\n",
              "      <td>13559</td>\n",
              "      <td>14331</td>\n",
              "      <td>14948</td>\n",
              "      <td>15549</td>\n",
              "      <td>1518</td>\n",
              "      <td>1500</td>\n",
              "      <td>1000</td>\n",
              "      <td>1000</td>\n",
              "      <td>1000</td>\n",
              "      <td>5000</td>\n",
              "      <td>0</td>\n",
              "    </tr>\n",
              "    <tr>\n",
              "      <th>3</th>\n",
              "      <td>50000</td>\n",
              "      <td>2</td>\n",
              "      <td>2</td>\n",
              "      <td>1</td>\n",
              "      <td>37</td>\n",
              "      <td>0</td>\n",
              "      <td>0</td>\n",
              "      <td>0</td>\n",
              "      <td>0</td>\n",
              "      <td>0</td>\n",
              "      <td>0</td>\n",
              "      <td>46990</td>\n",
              "      <td>48233</td>\n",
              "      <td>49291</td>\n",
              "      <td>28314</td>\n",
              "      <td>28959</td>\n",
              "      <td>29547</td>\n",
              "      <td>2000</td>\n",
              "      <td>2019</td>\n",
              "      <td>1200</td>\n",
              "      <td>1100</td>\n",
              "      <td>1069</td>\n",
              "      <td>1000</td>\n",
              "      <td>0</td>\n",
              "    </tr>\n",
              "    <tr>\n",
              "      <th>4</th>\n",
              "      <td>50000</td>\n",
              "      <td>1</td>\n",
              "      <td>2</td>\n",
              "      <td>1</td>\n",
              "      <td>57</td>\n",
              "      <td>-1</td>\n",
              "      <td>0</td>\n",
              "      <td>-1</td>\n",
              "      <td>0</td>\n",
              "      <td>0</td>\n",
              "      <td>0</td>\n",
              "      <td>8617</td>\n",
              "      <td>5670</td>\n",
              "      <td>35835</td>\n",
              "      <td>20940</td>\n",
              "      <td>19146</td>\n",
              "      <td>19131</td>\n",
              "      <td>2000</td>\n",
              "      <td>36681</td>\n",
              "      <td>10000</td>\n",
              "      <td>9000</td>\n",
              "      <td>689</td>\n",
              "      <td>679</td>\n",
              "      <td>0</td>\n",
              "    </tr>\n",
              "    <tr>\n",
              "      <th>5</th>\n",
              "      <td>50000</td>\n",
              "      <td>1</td>\n",
              "      <td>1</td>\n",
              "      <td>2</td>\n",
              "      <td>37</td>\n",
              "      <td>0</td>\n",
              "      <td>0</td>\n",
              "      <td>0</td>\n",
              "      <td>0</td>\n",
              "      <td>0</td>\n",
              "      <td>0</td>\n",
              "      <td>64400</td>\n",
              "      <td>57069</td>\n",
              "      <td>57608</td>\n",
              "      <td>19394</td>\n",
              "      <td>19619</td>\n",
              "      <td>20024</td>\n",
              "      <td>2500</td>\n",
              "      <td>1815</td>\n",
              "      <td>657</td>\n",
              "      <td>1000</td>\n",
              "      <td>1000</td>\n",
              "      <td>800</td>\n",
              "      <td>0</td>\n",
              "    </tr>\n",
              "    <tr>\n",
              "      <th>6</th>\n",
              "      <td>500000</td>\n",
              "      <td>1</td>\n",
              "      <td>1</td>\n",
              "      <td>2</td>\n",
              "      <td>29</td>\n",
              "      <td>0</td>\n",
              "      <td>0</td>\n",
              "      <td>0</td>\n",
              "      <td>0</td>\n",
              "      <td>0</td>\n",
              "      <td>0</td>\n",
              "      <td>367965</td>\n",
              "      <td>412023</td>\n",
              "      <td>445007</td>\n",
              "      <td>542653</td>\n",
              "      <td>483003</td>\n",
              "      <td>473944</td>\n",
              "      <td>55000</td>\n",
              "      <td>40000</td>\n",
              "      <td>38000</td>\n",
              "      <td>20239</td>\n",
              "      <td>13750</td>\n",
              "      <td>13770</td>\n",
              "      <td>0</td>\n",
              "    </tr>\n",
              "    <tr>\n",
              "      <th>7</th>\n",
              "      <td>100000</td>\n",
              "      <td>2</td>\n",
              "      <td>2</td>\n",
              "      <td>2</td>\n",
              "      <td>23</td>\n",
              "      <td>0</td>\n",
              "      <td>-1</td>\n",
              "      <td>-1</td>\n",
              "      <td>0</td>\n",
              "      <td>0</td>\n",
              "      <td>-1</td>\n",
              "      <td>11876</td>\n",
              "      <td>380</td>\n",
              "      <td>601</td>\n",
              "      <td>221</td>\n",
              "      <td>-159</td>\n",
              "      <td>567</td>\n",
              "      <td>380</td>\n",
              "      <td>601</td>\n",
              "      <td>0</td>\n",
              "      <td>581</td>\n",
              "      <td>1687</td>\n",
              "      <td>1542</td>\n",
              "      <td>0</td>\n",
              "    </tr>\n",
              "    <tr>\n",
              "      <th>8</th>\n",
              "      <td>140000</td>\n",
              "      <td>2</td>\n",
              "      <td>3</td>\n",
              "      <td>1</td>\n",
              "      <td>28</td>\n",
              "      <td>0</td>\n",
              "      <td>0</td>\n",
              "      <td>2</td>\n",
              "      <td>0</td>\n",
              "      <td>0</td>\n",
              "      <td>0</td>\n",
              "      <td>11285</td>\n",
              "      <td>14096</td>\n",
              "      <td>12108</td>\n",
              "      <td>12211</td>\n",
              "      <td>11793</td>\n",
              "      <td>3719</td>\n",
              "      <td>3329</td>\n",
              "      <td>0</td>\n",
              "      <td>432</td>\n",
              "      <td>1000</td>\n",
              "      <td>1000</td>\n",
              "      <td>1000</td>\n",
              "      <td>0</td>\n",
              "    </tr>\n",
              "    <tr>\n",
              "      <th>9</th>\n",
              "      <td>20000</td>\n",
              "      <td>1</td>\n",
              "      <td>3</td>\n",
              "      <td>2</td>\n",
              "      <td>35</td>\n",
              "      <td>-2</td>\n",
              "      <td>-2</td>\n",
              "      <td>-2</td>\n",
              "      <td>-2</td>\n",
              "      <td>-1</td>\n",
              "      <td>-1</td>\n",
              "      <td>0</td>\n",
              "      <td>0</td>\n",
              "      <td>0</td>\n",
              "      <td>0</td>\n",
              "      <td>13007</td>\n",
              "      <td>13912</td>\n",
              "      <td>0</td>\n",
              "      <td>0</td>\n",
              "      <td>0</td>\n",
              "      <td>13007</td>\n",
              "      <td>1122</td>\n",
              "      <td>0</td>\n",
              "      <td>0</td>\n",
              "    </tr>\n",
              "  </tbody>\n",
              "</table>\n",
              "</div>"
            ],
            "text/plain": [
              "   LIMIT_BAL  SEX  EDUCATION  MARRIAGE  ...  PAY_AMT4  PAY_AMT5  PAY_AMT6  target\n",
              "0      20000    2          2         1  ...         0         0         0       1\n",
              "1     120000    2          2         2  ...      1000         0      2000       1\n",
              "2      90000    2          2         2  ...      1000      1000      5000       0\n",
              "3      50000    2          2         1  ...      1100      1069      1000       0\n",
              "4      50000    1          2         1  ...      9000       689       679       0\n",
              "5      50000    1          1         2  ...      1000      1000       800       0\n",
              "6     500000    1          1         2  ...     20239     13750     13770       0\n",
              "7     100000    2          2         2  ...       581      1687      1542       0\n",
              "8     140000    2          3         1  ...      1000      1000      1000       0\n",
              "9      20000    1          3         2  ...     13007      1122         0       0\n",
              "\n",
              "[10 rows x 24 columns]"
            ]
          },
          "metadata": {},
          "execution_count": 246
        }
      ]
    },
    {
      "cell_type": "code",
      "metadata": {
        "id": "JlKnFQ8ldFsG",
        "colab": {
          "base_uri": "https://localhost:8080/",
          "height": 320
        },
        "outputId": "cd882629-fcff-4165-951c-01e804009c61"
      },
      "source": [
        "df.describe()"
      ],
      "execution_count": 247,
      "outputs": [
        {
          "output_type": "execute_result",
          "data": {
            "text/html": [
              "<div>\n",
              "<style scoped>\n",
              "    .dataframe tbody tr th:only-of-type {\n",
              "        vertical-align: middle;\n",
              "    }\n",
              "\n",
              "    .dataframe tbody tr th {\n",
              "        vertical-align: top;\n",
              "    }\n",
              "\n",
              "    .dataframe thead th {\n",
              "        text-align: right;\n",
              "    }\n",
              "</style>\n",
              "<table border=\"1\" class=\"dataframe\">\n",
              "  <thead>\n",
              "    <tr style=\"text-align: right;\">\n",
              "      <th></th>\n",
              "      <th>LIMIT_BAL</th>\n",
              "      <th>SEX</th>\n",
              "      <th>EDUCATION</th>\n",
              "      <th>MARRIAGE</th>\n",
              "      <th>AGE</th>\n",
              "      <th>PAY_0</th>\n",
              "      <th>PAY_2</th>\n",
              "      <th>PAY_3</th>\n",
              "      <th>PAY_4</th>\n",
              "      <th>PAY_5</th>\n",
              "      <th>PAY_6</th>\n",
              "      <th>BILL_AMT1</th>\n",
              "      <th>BILL_AMT2</th>\n",
              "      <th>BILL_AMT3</th>\n",
              "      <th>BILL_AMT4</th>\n",
              "      <th>BILL_AMT5</th>\n",
              "      <th>BILL_AMT6</th>\n",
              "      <th>PAY_AMT1</th>\n",
              "      <th>PAY_AMT2</th>\n",
              "      <th>PAY_AMT3</th>\n",
              "      <th>PAY_AMT4</th>\n",
              "      <th>PAY_AMT5</th>\n",
              "      <th>PAY_AMT6</th>\n",
              "      <th>target</th>\n",
              "    </tr>\n",
              "  </thead>\n",
              "  <tbody>\n",
              "    <tr>\n",
              "      <th>count</th>\n",
              "      <td>30000.000000</td>\n",
              "      <td>30000.000000</td>\n",
              "      <td>30000.000000</td>\n",
              "      <td>30000.000000</td>\n",
              "      <td>30000.000000</td>\n",
              "      <td>30000.000000</td>\n",
              "      <td>30000.000000</td>\n",
              "      <td>30000.000000</td>\n",
              "      <td>30000.000000</td>\n",
              "      <td>30000.000000</td>\n",
              "      <td>30000.000000</td>\n",
              "      <td>30000.000000</td>\n",
              "      <td>30000.000000</td>\n",
              "      <td>3.000000e+04</td>\n",
              "      <td>30000.000000</td>\n",
              "      <td>30000.000000</td>\n",
              "      <td>30000.000000</td>\n",
              "      <td>30000.000000</td>\n",
              "      <td>3.000000e+04</td>\n",
              "      <td>30000.00000</td>\n",
              "      <td>30000.000000</td>\n",
              "      <td>30000.000000</td>\n",
              "      <td>30000.000000</td>\n",
              "      <td>30000.000000</td>\n",
              "    </tr>\n",
              "    <tr>\n",
              "      <th>mean</th>\n",
              "      <td>167484.322667</td>\n",
              "      <td>1.603733</td>\n",
              "      <td>1.853133</td>\n",
              "      <td>1.551867</td>\n",
              "      <td>35.485500</td>\n",
              "      <td>-0.016700</td>\n",
              "      <td>-0.133767</td>\n",
              "      <td>-0.166200</td>\n",
              "      <td>-0.220667</td>\n",
              "      <td>-0.266200</td>\n",
              "      <td>-0.291100</td>\n",
              "      <td>51223.330900</td>\n",
              "      <td>49179.075167</td>\n",
              "      <td>4.701315e+04</td>\n",
              "      <td>43262.948967</td>\n",
              "      <td>40311.400967</td>\n",
              "      <td>38871.760400</td>\n",
              "      <td>5663.580500</td>\n",
              "      <td>5.921163e+03</td>\n",
              "      <td>5225.68150</td>\n",
              "      <td>4826.076867</td>\n",
              "      <td>4799.387633</td>\n",
              "      <td>5215.502567</td>\n",
              "      <td>0.221200</td>\n",
              "    </tr>\n",
              "    <tr>\n",
              "      <th>std</th>\n",
              "      <td>129747.661567</td>\n",
              "      <td>0.489129</td>\n",
              "      <td>0.790349</td>\n",
              "      <td>0.521970</td>\n",
              "      <td>9.217904</td>\n",
              "      <td>1.123802</td>\n",
              "      <td>1.197186</td>\n",
              "      <td>1.196868</td>\n",
              "      <td>1.169139</td>\n",
              "      <td>1.133187</td>\n",
              "      <td>1.149988</td>\n",
              "      <td>73635.860576</td>\n",
              "      <td>71173.768783</td>\n",
              "      <td>6.934939e+04</td>\n",
              "      <td>64332.856134</td>\n",
              "      <td>60797.155770</td>\n",
              "      <td>59554.107537</td>\n",
              "      <td>16563.280354</td>\n",
              "      <td>2.304087e+04</td>\n",
              "      <td>17606.96147</td>\n",
              "      <td>15666.159744</td>\n",
              "      <td>15278.305679</td>\n",
              "      <td>17777.465775</td>\n",
              "      <td>0.415062</td>\n",
              "    </tr>\n",
              "    <tr>\n",
              "      <th>min</th>\n",
              "      <td>10000.000000</td>\n",
              "      <td>1.000000</td>\n",
              "      <td>0.000000</td>\n",
              "      <td>0.000000</td>\n",
              "      <td>21.000000</td>\n",
              "      <td>-2.000000</td>\n",
              "      <td>-2.000000</td>\n",
              "      <td>-2.000000</td>\n",
              "      <td>-2.000000</td>\n",
              "      <td>-2.000000</td>\n",
              "      <td>-2.000000</td>\n",
              "      <td>-165580.000000</td>\n",
              "      <td>-69777.000000</td>\n",
              "      <td>-1.572640e+05</td>\n",
              "      <td>-170000.000000</td>\n",
              "      <td>-81334.000000</td>\n",
              "      <td>-339603.000000</td>\n",
              "      <td>0.000000</td>\n",
              "      <td>0.000000e+00</td>\n",
              "      <td>0.00000</td>\n",
              "      <td>0.000000</td>\n",
              "      <td>0.000000</td>\n",
              "      <td>0.000000</td>\n",
              "      <td>0.000000</td>\n",
              "    </tr>\n",
              "    <tr>\n",
              "      <th>25%</th>\n",
              "      <td>50000.000000</td>\n",
              "      <td>1.000000</td>\n",
              "      <td>1.000000</td>\n",
              "      <td>1.000000</td>\n",
              "      <td>28.000000</td>\n",
              "      <td>-1.000000</td>\n",
              "      <td>-1.000000</td>\n",
              "      <td>-1.000000</td>\n",
              "      <td>-1.000000</td>\n",
              "      <td>-1.000000</td>\n",
              "      <td>-1.000000</td>\n",
              "      <td>3558.750000</td>\n",
              "      <td>2984.750000</td>\n",
              "      <td>2.666250e+03</td>\n",
              "      <td>2326.750000</td>\n",
              "      <td>1763.000000</td>\n",
              "      <td>1256.000000</td>\n",
              "      <td>1000.000000</td>\n",
              "      <td>8.330000e+02</td>\n",
              "      <td>390.00000</td>\n",
              "      <td>296.000000</td>\n",
              "      <td>252.500000</td>\n",
              "      <td>117.750000</td>\n",
              "      <td>0.000000</td>\n",
              "    </tr>\n",
              "    <tr>\n",
              "      <th>50%</th>\n",
              "      <td>140000.000000</td>\n",
              "      <td>2.000000</td>\n",
              "      <td>2.000000</td>\n",
              "      <td>2.000000</td>\n",
              "      <td>34.000000</td>\n",
              "      <td>0.000000</td>\n",
              "      <td>0.000000</td>\n",
              "      <td>0.000000</td>\n",
              "      <td>0.000000</td>\n",
              "      <td>0.000000</td>\n",
              "      <td>0.000000</td>\n",
              "      <td>22381.500000</td>\n",
              "      <td>21200.000000</td>\n",
              "      <td>2.008850e+04</td>\n",
              "      <td>19052.000000</td>\n",
              "      <td>18104.500000</td>\n",
              "      <td>17071.000000</td>\n",
              "      <td>2100.000000</td>\n",
              "      <td>2.009000e+03</td>\n",
              "      <td>1800.00000</td>\n",
              "      <td>1500.000000</td>\n",
              "      <td>1500.000000</td>\n",
              "      <td>1500.000000</td>\n",
              "      <td>0.000000</td>\n",
              "    </tr>\n",
              "    <tr>\n",
              "      <th>75%</th>\n",
              "      <td>240000.000000</td>\n",
              "      <td>2.000000</td>\n",
              "      <td>2.000000</td>\n",
              "      <td>2.000000</td>\n",
              "      <td>41.000000</td>\n",
              "      <td>0.000000</td>\n",
              "      <td>0.000000</td>\n",
              "      <td>0.000000</td>\n",
              "      <td>0.000000</td>\n",
              "      <td>0.000000</td>\n",
              "      <td>0.000000</td>\n",
              "      <td>67091.000000</td>\n",
              "      <td>64006.250000</td>\n",
              "      <td>6.016475e+04</td>\n",
              "      <td>54506.000000</td>\n",
              "      <td>50190.500000</td>\n",
              "      <td>49198.250000</td>\n",
              "      <td>5006.000000</td>\n",
              "      <td>5.000000e+03</td>\n",
              "      <td>4505.00000</td>\n",
              "      <td>4013.250000</td>\n",
              "      <td>4031.500000</td>\n",
              "      <td>4000.000000</td>\n",
              "      <td>0.000000</td>\n",
              "    </tr>\n",
              "    <tr>\n",
              "      <th>max</th>\n",
              "      <td>1000000.000000</td>\n",
              "      <td>2.000000</td>\n",
              "      <td>6.000000</td>\n",
              "      <td>3.000000</td>\n",
              "      <td>79.000000</td>\n",
              "      <td>8.000000</td>\n",
              "      <td>8.000000</td>\n",
              "      <td>8.000000</td>\n",
              "      <td>8.000000</td>\n",
              "      <td>8.000000</td>\n",
              "      <td>8.000000</td>\n",
              "      <td>964511.000000</td>\n",
              "      <td>983931.000000</td>\n",
              "      <td>1.664089e+06</td>\n",
              "      <td>891586.000000</td>\n",
              "      <td>927171.000000</td>\n",
              "      <td>961664.000000</td>\n",
              "      <td>873552.000000</td>\n",
              "      <td>1.684259e+06</td>\n",
              "      <td>896040.00000</td>\n",
              "      <td>621000.000000</td>\n",
              "      <td>426529.000000</td>\n",
              "      <td>528666.000000</td>\n",
              "      <td>1.000000</td>\n",
              "    </tr>\n",
              "  </tbody>\n",
              "</table>\n",
              "</div>"
            ],
            "text/plain": [
              "            LIMIT_BAL           SEX  ...       PAY_AMT6        target\n",
              "count    30000.000000  30000.000000  ...   30000.000000  30000.000000\n",
              "mean    167484.322667      1.603733  ...    5215.502567      0.221200\n",
              "std     129747.661567      0.489129  ...   17777.465775      0.415062\n",
              "min      10000.000000      1.000000  ...       0.000000      0.000000\n",
              "25%      50000.000000      1.000000  ...     117.750000      0.000000\n",
              "50%     140000.000000      2.000000  ...    1500.000000      0.000000\n",
              "75%     240000.000000      2.000000  ...    4000.000000      0.000000\n",
              "max    1000000.000000      2.000000  ...  528666.000000      1.000000\n",
              "\n",
              "[8 rows x 24 columns]"
            ]
          },
          "metadata": {},
          "execution_count": 247
        }
      ]
    },
    {
      "cell_type": "markdown",
      "metadata": {
        "id": "uQ_qNK6zdTs2"
      },
      "source": [
        "Musimy sprawdzić, czy tablica zawiera wartość null"
      ]
    },
    {
      "cell_type": "code",
      "metadata": {
        "id": "JqvnwvlFdLSd",
        "colab": {
          "base_uri": "https://localhost:8080/",
          "height": 0
        },
        "outputId": "b795b332-1664-4992-a8a6-15e7a4183765"
      },
      "source": [
        "df.isnull().sum()"
      ],
      "execution_count": 248,
      "outputs": [
        {
          "output_type": "execute_result",
          "data": {
            "text/plain": [
              "LIMIT_BAL    0\n",
              "SEX          0\n",
              "EDUCATION    0\n",
              "MARRIAGE     0\n",
              "AGE          0\n",
              "PAY_0        0\n",
              "PAY_2        0\n",
              "PAY_3        0\n",
              "PAY_4        0\n",
              "PAY_5        0\n",
              "PAY_6        0\n",
              "BILL_AMT1    0\n",
              "BILL_AMT2    0\n",
              "BILL_AMT3    0\n",
              "BILL_AMT4    0\n",
              "BILL_AMT5    0\n",
              "BILL_AMT6    0\n",
              "PAY_AMT1     0\n",
              "PAY_AMT2     0\n",
              "PAY_AMT3     0\n",
              "PAY_AMT4     0\n",
              "PAY_AMT5     0\n",
              "PAY_AMT6     0\n",
              "target       0\n",
              "dtype: int64"
            ]
          },
          "metadata": {},
          "execution_count": 248
        }
      ]
    },
    {
      "cell_type": "markdown",
      "metadata": {
        "id": "2ruP6YGMTWH1"
      },
      "source": [
        "Zanim zaczniemy badać dane, możemy użyć prostego modelu, aby zobaczyć, jaki byłby przybliżony wynik dokładności jest dla danych pierwotnych."
      ]
    },
    {
      "cell_type": "code",
      "metadata": {
        "id": "-Ug2OhHrUYSH"
      },
      "source": [
        "from sklearn.model_selection import train_test_split\n",
        "\n",
        "X = df.drop(['target'], axis=1)\n",
        "y = df.target\n",
        "\n",
        "X_train, X_test, y_train, y_test = train_test_split(X, y, test_size=0.2, random_state=seed_value) "
      ],
      "execution_count": 249,
      "outputs": []
    },
    {
      "cell_type": "code",
      "metadata": {
        "id": "4lg6AR1cV8uE"
      },
      "source": [
        "from sklearn.ensemble import RandomForestClassifier\n",
        "\n",
        "classifier = RandomForestClassifier(random_state=0)\n",
        "\n",
        "classifier.fit(X_train, y_train)\n",
        "y_pred = classifier.predict(X_test)"
      ],
      "execution_count": 250,
      "outputs": []
    },
    {
      "cell_type": "markdown",
      "metadata": {
        "id": "nAOCczclbGkn"
      },
      "source": [
        "Przybliżone wyniki dla danych pierwotnych z wykorzystaniem lasu losowego."
      ]
    },
    {
      "cell_type": "code",
      "metadata": {
        "id": "WAn23ZOUVzIk",
        "colab": {
          "base_uri": "https://localhost:8080/",
          "height": 0
        },
        "outputId": "e9100d75-7672-4b56-fee8-73f922bb5976"
      },
      "source": [
        "from sklearn.metrics import confusion_matrix\n",
        "from sklearn.metrics import accuracy_score\n",
        "from sklearn.metrics import roc_auc_score\n",
        "from sklearn.metrics import f1_score, ConfusionMatrixDisplay\n",
        "\n",
        "cm = confusion_matrix(y_test, y_pred)\n",
        "\n",
        "print('Accuracy: ' + str(round(accuracy_score(y_test, y_pred), 2)))\n",
        "print('F1 score: ' + str(round(f1_score(y_true = y_test, y_pred = y_pred), 2)))\n",
        "print('AUC score: ' + str(round(roc_auc_score(y_test, y_pred), 2)))"
      ],
      "execution_count": 251,
      "outputs": [
        {
          "output_type": "stream",
          "name": "stdout",
          "text": [
            "Accuracy: 0.82\n",
            "F1 score: 0.48\n",
            "AUC score: 0.66\n"
          ]
        }
      ]
    },
    {
      "cell_type": "markdown",
      "metadata": {
        "id": "mXjZaggVbdgI"
      },
      "source": [
        "Macierz błędów"
      ]
    },
    {
      "cell_type": "code",
      "metadata": {
        "id": "RC8sDjttaUbg",
        "colab": {
          "base_uri": "https://localhost:8080/",
          "height": 279
        },
        "outputId": "f5527dbb-9782-4454-f1a1-e870c6dc109f"
      },
      "source": [
        "ConfusionMatrixDisplay.from_estimator(classifier, X_test, y_test)\n",
        "plt.show()"
      ],
      "execution_count": 252,
      "outputs": [
        {
          "output_type": "display_data",
          "data": {
            "image/png": "[encoded data removed]",
            "text/plain": [
              "<Figure size 432x288 with 2 Axes>"
            ]
          },
          "metadata": {
            "needs_background": "light"
          }
        }
      ]
    },
    {
      "cell_type": "markdown",
      "metadata": {
        "id": "UHgLijBZbvWH"
      },
      "source": [
        "Musimy sprawdzić, które zmienne miały jak największy wpływ na model. Pozwoli to albo zmodyfikować dane, albo usunąć wiersze, które nie mają dużego wpływu na wynik."
      ]
    },
    {
      "cell_type": "code",
      "metadata": {
        "id": "wcWPFDNIXMbs",
        "colab": {
          "base_uri": "https://localhost:8080/",
          "height": 281
        },
        "outputId": "90a8131d-a198-4cda-eb7b-740a84bd7599"
      },
      "source": [
        "feat_importances = pd.Series(classifier.feature_importances_, index=X.columns)\n",
        "feat_importances.nlargest(21).plot(kind='barh')\n",
        "plt.title('Feature importance')\n",
        "plt.show()"
      ],
      "execution_count": 253,
      "outputs": [
        {
          "output_type": "display_data",
          "data": {
            "image/png": "[encoded data removed]",
            "text/plain": [
              "<Figure size 432x288 with 1 Axes>"
            ]
          },
          "metadata": {
            "needs_background": "light"
          }
        }
      ]
    },
    {
      "cell_type": "markdown",
      "metadata": {
        "id": "Q_V-PAt3eolz"
      },
      "source": [
        "Tworzenie macierzy korelacji i sprawdzenie, czy są jakieś zmienne, które mogą być usunięte z powodu wysokiej korelacji."
      ]
    },
    {
      "cell_type": "code",
      "metadata": {
        "id": "gIwJQeI2doVF",
        "colab": {
          "base_uri": "https://localhost:8080/",
          "height": 644
        },
        "outputId": "8f445b13-3425-42fa-f8ad-f4e96b6f5ca7"
      },
      "source": [
        "correlation_matrix = df.corr(method = \"spearman\").abs()\n",
        "\n",
        "fig = plt.figure(figsize=(14,10))\n",
        "sns.heatmap(correlation_matrix, cmap='OrRd', square=True)\n",
        "plt.show()\n",
        "\n",
        "upper = correlation_matrix.where(np.triu(np.ones(correlation_matrix.shape), k = 1).astype(np.bool))\n",
        "to_drop = [column for column in upper.columns if any(upper[column] > 0.90)]"
      ],
      "execution_count": 254,
      "outputs": [
        {
          "output_type": "display_data",
          "data": {
            "image/png": "[encoded data removed]",
            "text/plain": [
              "<Figure size 1008x720 with 2 Axes>"
            ]
          },
          "metadata": {
            "needs_background": "light"
          }
        }
      ]
    },
    {
      "cell_type": "markdown",
      "metadata": {
        "id": "-wPA6B-gSFAN"
      },
      "source": [
        "Jak widać atrybuty BILL_AMT mają bardzo wysoką korelację (90 > ), co oznacza, że mogłyby zostać połączone lub usunięte do jednej instancji, ale ponieważ nasz zbiór danych nie zawiera zbyt wielu atrybutów i nie wpływa to znacząco na czas treningu sieci, można je zostawić tak jak są. "
      ]
    },
    {
      "cell_type": "code",
      "metadata": {
        "id": "jrGtkOj7RVEl",
        "colab": {
          "base_uri": "https://localhost:8080/",
          "height": 0
        },
        "outputId": "3566d3a5-2164-41e0-8a48-d1a2dcbab1ff"
      },
      "source": [
        "to_drop"
      ],
      "execution_count": 255,
      "outputs": [
        {
          "output_type": "execute_result",
          "data": {
            "text/plain": [
              "['BILL_AMT2', 'BILL_AMT3', 'BILL_AMT4', 'BILL_AMT5', 'BILL_AMT6']"
            ]
          },
          "metadata": {},
          "execution_count": 255
        }
      ]
    },
    {
      "cell_type": "markdown",
      "metadata": {
        "id": "Eo87TeEzfS_Y"
      },
      "source": [
        "Dane kategorialne"
      ]
    },
    {
      "cell_type": "code",
      "metadata": {
        "id": "73kD0nFOe0aE",
        "colab": {
          "base_uri": "https://localhost:8080/",
          "height": 280
        },
        "outputId": "e324e025-9a52-4e26-9f57-8750500d8a41"
      },
      "source": [
        "df.SEX.value_counts().plot(kind='bar')"
      ],
      "execution_count": 256,
      "outputs": [
        {
          "output_type": "execute_result",
          "data": {
            "text/plain": [
              "<matplotlib.axes._subplots.AxesSubplot at 0x7fc6ad0b8250>"
            ]
          },
          "metadata": {},
          "execution_count": 256
        },
        {
          "output_type": "display_data",
          "data": {
            "image/png": "[encoded data removed]",
            "text/plain": [
              "<Figure size 432x288 with 1 Axes>"
            ]
          },
          "metadata": {
            "needs_background": "light"
          }
        }
      ]
    },
    {
      "cell_type": "code",
      "metadata": {
        "id": "rXSswl2qfgeI",
        "colab": {
          "base_uri": "https://localhost:8080/",
          "height": 280
        },
        "outputId": "b60ae7af-fe80-41cf-f157-def316664a17"
      },
      "source": [
        "df.MARRIAGE.value_counts().plot(kind='bar')"
      ],
      "execution_count": 257,
      "outputs": [
        {
          "output_type": "execute_result",
          "data": {
            "text/plain": [
              "<matplotlib.axes._subplots.AxesSubplot at 0x7fc6acff8210>"
            ]
          },
          "metadata": {},
          "execution_count": 257
        },
        {
          "output_type": "display_data",
          "data": {
            "image/png": "[encoded data removed]",
            "text/plain": [
              "<Figure size 432x288 with 1 Axes>"
            ]
          },
          "metadata": {
            "needs_background": "light"
          }
        }
      ]
    },
    {
      "cell_type": "code",
      "metadata": {
        "id": "ESyu0lL2fHyj",
        "colab": {
          "base_uri": "https://localhost:8080/",
          "height": 280
        },
        "outputId": "41d7f478-deda-4879-866b-a8f7d11ea57a"
      },
      "source": [
        "df.EDUCATION.value_counts().plot(kind = \"bar\")"
      ],
      "execution_count": 258,
      "outputs": [
        {
          "output_type": "execute_result",
          "data": {
            "text/plain": [
              "<matplotlib.axes._subplots.AxesSubplot at 0x7fc6acf140d0>"
            ]
          },
          "metadata": {},
          "execution_count": 258
        },
        {
          "output_type": "display_data",
          "data": {
            "image/png": "[encoded data removed]",
            "text/plain": [
              "<Figure size 432x288 with 1 Axes>"
            ]
          },
          "metadata": {
            "needs_background": "light"
          }
        }
      ]
    },
    {
      "cell_type": "markdown",
      "metadata": {
        "id": "C6Y5oQkDgNaC"
      },
      "source": [
        "Dane numeryczne"
      ]
    },
    {
      "cell_type": "code",
      "metadata": {
        "id": "6uS7TaTkh2Zb",
        "colab": {
          "base_uri": "https://localhost:8080/",
          "height": 405
        },
        "outputId": "94c681f0-2241-49e7-c521-ca7cebd0212c"
      },
      "source": [
        "class_0 = df.loc[df['target'] == 0][\"LIMIT_BAL\"]\n",
        "class_1 = df.loc[df['target'] == 1][\"LIMIT_BAL\"]\n",
        "\n",
        "fig = plt.figure(figsize = (14,6))\n",
        "plt.title('Grupowanie wyników (target) z default limit')\n",
        "\n",
        "sns.set_color_codes(\"pastel\")\n",
        "sns.histplot(class_0,kde=True, bins=200, color=\"red\")\n",
        "sns.histplot(class_1,kde=True, bins=200, color=\"blue\")\n",
        "plt.legend(labels=['Default 0','Default 1'])\n",
        "\n",
        "plt.show()"
      ],
      "execution_count": 259,
      "outputs": [
        {
          "output_type": "display_data",
          "data": {
            "image/png": "[encoded data removed]",
            "text/plain": [
              "<Figure size 1008x432 with 1 Axes>"
            ]
          },
          "metadata": {
            "needs_background": "light"
          }
        }
      ]
    },
    {
      "cell_type": "code",
      "metadata": {
        "id": "7y3roQLZBoQe",
        "colab": {
          "base_uri": "https://localhost:8080/",
          "height": 226
        },
        "outputId": "7408fbba-8614-4751-bf29-d837c65e9ab0"
      },
      "source": [
        "df.head()"
      ],
      "execution_count": 260,
      "outputs": [
        {
          "output_type": "execute_result",
          "data": {
            "text/html": [
              "<div>\n",
              "<style scoped>\n",
              "    .dataframe tbody tr th:only-of-type {\n",
              "        vertical-align: middle;\n",
              "    }\n",
              "\n",
              "    .dataframe tbody tr th {\n",
              "        vertical-align: top;\n",
              "    }\n",
              "\n",
              "    .dataframe thead th {\n",
              "        text-align: right;\n",
              "    }\n",
              "</style>\n",
              "<table border=\"1\" class=\"dataframe\">\n",
              "  <thead>\n",
              "    <tr style=\"text-align: right;\">\n",
              "      <th></th>\n",
              "      <th>LIMIT_BAL</th>\n",
              "      <th>SEX</th>\n",
              "      <th>EDUCATION</th>\n",
              "      <th>MARRIAGE</th>\n",
              "      <th>AGE</th>\n",
              "      <th>PAY_0</th>\n",
              "      <th>PAY_2</th>\n",
              "      <th>PAY_3</th>\n",
              "      <th>PAY_4</th>\n",
              "      <th>PAY_5</th>\n",
              "      <th>PAY_6</th>\n",
              "      <th>BILL_AMT1</th>\n",
              "      <th>BILL_AMT2</th>\n",
              "      <th>BILL_AMT3</th>\n",
              "      <th>BILL_AMT4</th>\n",
              "      <th>BILL_AMT5</th>\n",
              "      <th>BILL_AMT6</th>\n",
              "      <th>PAY_AMT1</th>\n",
              "      <th>PAY_AMT2</th>\n",
              "      <th>PAY_AMT3</th>\n",
              "      <th>PAY_AMT4</th>\n",
              "      <th>PAY_AMT5</th>\n",
              "      <th>PAY_AMT6</th>\n",
              "      <th>target</th>\n",
              "    </tr>\n",
              "  </thead>\n",
              "  <tbody>\n",
              "    <tr>\n",
              "      <th>0</th>\n",
              "      <td>20000</td>\n",
              "      <td>2</td>\n",
              "      <td>2</td>\n",
              "      <td>1</td>\n",
              "      <td>24</td>\n",
              "      <td>2</td>\n",
              "      <td>2</td>\n",
              "      <td>-1</td>\n",
              "      <td>-1</td>\n",
              "      <td>-2</td>\n",
              "      <td>-2</td>\n",
              "      <td>3913</td>\n",
              "      <td>3102</td>\n",
              "      <td>689</td>\n",
              "      <td>0</td>\n",
              "      <td>0</td>\n",
              "      <td>0</td>\n",
              "      <td>0</td>\n",
              "      <td>689</td>\n",
              "      <td>0</td>\n",
              "      <td>0</td>\n",
              "      <td>0</td>\n",
              "      <td>0</td>\n",
              "      <td>1</td>\n",
              "    </tr>\n",
              "    <tr>\n",
              "      <th>1</th>\n",
              "      <td>120000</td>\n",
              "      <td>2</td>\n",
              "      <td>2</td>\n",
              "      <td>2</td>\n",
              "      <td>26</td>\n",
              "      <td>-1</td>\n",
              "      <td>2</td>\n",
              "      <td>0</td>\n",
              "      <td>0</td>\n",
              "      <td>0</td>\n",
              "      <td>2</td>\n",
              "      <td>2682</td>\n",
              "      <td>1725</td>\n",
              "      <td>2682</td>\n",
              "      <td>3272</td>\n",
              "      <td>3455</td>\n",
              "      <td>3261</td>\n",
              "      <td>0</td>\n",
              "      <td>1000</td>\n",
              "      <td>1000</td>\n",
              "      <td>1000</td>\n",
              "      <td>0</td>\n",
              "      <td>2000</td>\n",
              "      <td>1</td>\n",
              "    </tr>\n",
              "    <tr>\n",
              "      <th>2</th>\n",
              "      <td>90000</td>\n",
              "      <td>2</td>\n",
              "      <td>2</td>\n",
              "      <td>2</td>\n",
              "      <td>34</td>\n",
              "      <td>0</td>\n",
              "      <td>0</td>\n",
              "      <td>0</td>\n",
              "      <td>0</td>\n",
              "      <td>0</td>\n",
              "      <td>0</td>\n",
              "      <td>29239</td>\n",
              "      <td>14027</td>\n",
              "      <td>13559</td>\n",
              "      <td>14331</td>\n",
              "      <td>14948</td>\n",
              "      <td>15549</td>\n",
              "      <td>1518</td>\n",
              "      <td>1500</td>\n",
              "      <td>1000</td>\n",
              "      <td>1000</td>\n",
              "      <td>1000</td>\n",
              "      <td>5000</td>\n",
              "      <td>0</td>\n",
              "    </tr>\n",
              "    <tr>\n",
              "      <th>3</th>\n",
              "      <td>50000</td>\n",
              "      <td>2</td>\n",
              "      <td>2</td>\n",
              "      <td>1</td>\n",
              "      <td>37</td>\n",
              "      <td>0</td>\n",
              "      <td>0</td>\n",
              "      <td>0</td>\n",
              "      <td>0</td>\n",
              "      <td>0</td>\n",
              "      <td>0</td>\n",
              "      <td>46990</td>\n",
              "      <td>48233</td>\n",
              "      <td>49291</td>\n",
              "      <td>28314</td>\n",
              "      <td>28959</td>\n",
              "      <td>29547</td>\n",
              "      <td>2000</td>\n",
              "      <td>2019</td>\n",
              "      <td>1200</td>\n",
              "      <td>1100</td>\n",
              "      <td>1069</td>\n",
              "      <td>1000</td>\n",
              "      <td>0</td>\n",
              "    </tr>\n",
              "    <tr>\n",
              "      <th>4</th>\n",
              "      <td>50000</td>\n",
              "      <td>1</td>\n",
              "      <td>2</td>\n",
              "      <td>1</td>\n",
              "      <td>57</td>\n",
              "      <td>-1</td>\n",
              "      <td>0</td>\n",
              "      <td>-1</td>\n",
              "      <td>0</td>\n",
              "      <td>0</td>\n",
              "      <td>0</td>\n",
              "      <td>8617</td>\n",
              "      <td>5670</td>\n",
              "      <td>35835</td>\n",
              "      <td>20940</td>\n",
              "      <td>19146</td>\n",
              "      <td>19131</td>\n",
              "      <td>2000</td>\n",
              "      <td>36681</td>\n",
              "      <td>10000</td>\n",
              "      <td>9000</td>\n",
              "      <td>689</td>\n",
              "      <td>679</td>\n",
              "      <td>0</td>\n",
              "    </tr>\n",
              "  </tbody>\n",
              "</table>\n",
              "</div>"
            ],
            "text/plain": [
              "   LIMIT_BAL  SEX  EDUCATION  MARRIAGE  ...  PAY_AMT4  PAY_AMT5  PAY_AMT6  target\n",
              "0      20000    2          2         1  ...         0         0         0       1\n",
              "1     120000    2          2         2  ...      1000         0      2000       1\n",
              "2      90000    2          2         2  ...      1000      1000      5000       0\n",
              "3      50000    2          2         1  ...      1100      1069      1000       0\n",
              "4      50000    1          2         1  ...      9000       689       679       0\n",
              "\n",
              "[5 rows x 24 columns]"
            ]
          },
          "metadata": {},
          "execution_count": 260
        }
      ]
    },
    {
      "cell_type": "markdown",
      "metadata": {
        "id": "13c40uegxe00"
      },
      "source": [
        "# 2. **Inżynieria cech**"
      ]
    },
    {
      "cell_type": "markdown",
      "metadata": {
        "id": "bSmEbHEcxZO-"
      },
      "source": [
        "Rozdzielenie zbioru danych na testowy i treningowy, jak również tworzenie nowych zmiennych"
      ]
    },
    {
      "cell_type": "code",
      "metadata": {
        "id": "Z9jOwHHGy1YW",
        "colab": {
          "base_uri": "https://localhost:8080/",
          "height": 0
        },
        "outputId": "0eca128c-46be-4144-a35a-be75182b9424"
      },
      "source": [
        "df = df.fillna(0)\n",
        "df.isnull().sum()"
      ],
      "execution_count": 261,
      "outputs": [
        {
          "output_type": "execute_result",
          "data": {
            "text/plain": [
              "LIMIT_BAL    0\n",
              "SEX          0\n",
              "EDUCATION    0\n",
              "MARRIAGE     0\n",
              "AGE          0\n",
              "PAY_0        0\n",
              "PAY_2        0\n",
              "PAY_3        0\n",
              "PAY_4        0\n",
              "PAY_5        0\n",
              "PAY_6        0\n",
              "BILL_AMT1    0\n",
              "BILL_AMT2    0\n",
              "BILL_AMT3    0\n",
              "BILL_AMT4    0\n",
              "BILL_AMT5    0\n",
              "BILL_AMT6    0\n",
              "PAY_AMT1     0\n",
              "PAY_AMT2     0\n",
              "PAY_AMT3     0\n",
              "PAY_AMT4     0\n",
              "PAY_AMT5     0\n",
              "PAY_AMT6     0\n",
              "target       0\n",
              "dtype: int64"
            ]
          },
          "metadata": {},
          "execution_count": 261
        }
      ]
    },
    {
      "cell_type": "code",
      "metadata": {
        "id": "GGL72EPqRCOw",
        "colab": {
          "base_uri": "https://localhost:8080/",
          "height": 320
        },
        "outputId": "047beda2-c67f-404f-9e71-9675b404b86a"
      },
      "source": [
        "df.describe()"
      ],
      "execution_count": 262,
      "outputs": [
        {
          "output_type": "execute_result",
          "data": {
            "text/html": [
              "<div>\n",
              "<style scoped>\n",
              "    .dataframe tbody tr th:only-of-type {\n",
              "        vertical-align: middle;\n",
              "    }\n",
              "\n",
              "    .dataframe tbody tr th {\n",
              "        vertical-align: top;\n",
              "    }\n",
              "\n",
              "    .dataframe thead th {\n",
              "        text-align: right;\n",
              "    }\n",
              "</style>\n",
              "<table border=\"1\" class=\"dataframe\">\n",
              "  <thead>\n",
              "    <tr style=\"text-align: right;\">\n",
              "      <th></th>\n",
              "      <th>LIMIT_BAL</th>\n",
              "      <th>SEX</th>\n",
              "      <th>EDUCATION</th>\n",
              "      <th>MARRIAGE</th>\n",
              "      <th>AGE</th>\n",
              "      <th>PAY_0</th>\n",
              "      <th>PAY_2</th>\n",
              "      <th>PAY_3</th>\n",
              "      <th>PAY_4</th>\n",
              "      <th>PAY_5</th>\n",
              "      <th>PAY_6</th>\n",
              "      <th>BILL_AMT1</th>\n",
              "      <th>BILL_AMT2</th>\n",
              "      <th>BILL_AMT3</th>\n",
              "      <th>BILL_AMT4</th>\n",
              "      <th>BILL_AMT5</th>\n",
              "      <th>BILL_AMT6</th>\n",
              "      <th>PAY_AMT1</th>\n",
              "      <th>PAY_AMT2</th>\n",
              "      <th>PAY_AMT3</th>\n",
              "      <th>PAY_AMT4</th>\n",
              "      <th>PAY_AMT5</th>\n",
              "      <th>PAY_AMT6</th>\n",
              "      <th>target</th>\n",
              "    </tr>\n",
              "  </thead>\n",
              "  <tbody>\n",
              "    <tr>\n",
              "      <th>count</th>\n",
              "      <td>30000.000000</td>\n",
              "      <td>30000.000000</td>\n",
              "      <td>30000.000000</td>\n",
              "      <td>30000.000000</td>\n",
              "      <td>30000.000000</td>\n",
              "      <td>30000.000000</td>\n",
              "      <td>30000.000000</td>\n",
              "      <td>30000.000000</td>\n",
              "      <td>30000.000000</td>\n",
              "      <td>30000.000000</td>\n",
              "      <td>30000.000000</td>\n",
              "      <td>30000.000000</td>\n",
              "      <td>30000.000000</td>\n",
              "      <td>3.000000e+04</td>\n",
              "      <td>30000.000000</td>\n",
              "      <td>30000.000000</td>\n",
              "      <td>30000.000000</td>\n",
              "      <td>30000.000000</td>\n",
              "      <td>3.000000e+04</td>\n",
              "      <td>30000.00000</td>\n",
              "      <td>30000.000000</td>\n",
              "      <td>30000.000000</td>\n",
              "      <td>30000.000000</td>\n",
              "      <td>30000.000000</td>\n",
              "    </tr>\n",
              "    <tr>\n",
              "      <th>mean</th>\n",
              "      <td>167484.322667</td>\n",
              "      <td>1.603733</td>\n",
              "      <td>1.853133</td>\n",
              "      <td>1.551867</td>\n",
              "      <td>35.485500</td>\n",
              "      <td>-0.016700</td>\n",
              "      <td>-0.133767</td>\n",
              "      <td>-0.166200</td>\n",
              "      <td>-0.220667</td>\n",
              "      <td>-0.266200</td>\n",
              "      <td>-0.291100</td>\n",
              "      <td>51223.330900</td>\n",
              "      <td>49179.075167</td>\n",
              "      <td>4.701315e+04</td>\n",
              "      <td>43262.948967</td>\n",
              "      <td>40311.400967</td>\n",
              "      <td>38871.760400</td>\n",
              "      <td>5663.580500</td>\n",
              "      <td>5.921163e+03</td>\n",
              "      <td>5225.68150</td>\n",
              "      <td>4826.076867</td>\n",
              "      <td>4799.387633</td>\n",
              "      <td>5215.502567</td>\n",
              "      <td>0.221200</td>\n",
              "    </tr>\n",
              "    <tr>\n",
              "      <th>std</th>\n",
              "      <td>129747.661567</td>\n",
              "      <td>0.489129</td>\n",
              "      <td>0.790349</td>\n",
              "      <td>0.521970</td>\n",
              "      <td>9.217904</td>\n",
              "      <td>1.123802</td>\n",
              "      <td>1.197186</td>\n",
              "      <td>1.196868</td>\n",
              "      <td>1.169139</td>\n",
              "      <td>1.133187</td>\n",
              "      <td>1.149988</td>\n",
              "      <td>73635.860576</td>\n",
              "      <td>71173.768783</td>\n",
              "      <td>6.934939e+04</td>\n",
              "      <td>64332.856134</td>\n",
              "      <td>60797.155770</td>\n",
              "      <td>59554.107537</td>\n",
              "      <td>16563.280354</td>\n",
              "      <td>2.304087e+04</td>\n",
              "      <td>17606.96147</td>\n",
              "      <td>15666.159744</td>\n",
              "      <td>15278.305679</td>\n",
              "      <td>17777.465775</td>\n",
              "      <td>0.415062</td>\n",
              "    </tr>\n",
              "    <tr>\n",
              "      <th>min</th>\n",
              "      <td>10000.000000</td>\n",
              "      <td>1.000000</td>\n",
              "      <td>0.000000</td>\n",
              "      <td>0.000000</td>\n",
              "      <td>21.000000</td>\n",
              "      <td>-2.000000</td>\n",
              "      <td>-2.000000</td>\n",
              "      <td>-2.000000</td>\n",
              "      <td>-2.000000</td>\n",
              "      <td>-2.000000</td>\n",
              "      <td>-2.000000</td>\n",
              "      <td>-165580.000000</td>\n",
              "      <td>-69777.000000</td>\n",
              "      <td>-1.572640e+05</td>\n",
              "      <td>-170000.000000</td>\n",
              "      <td>-81334.000000</td>\n",
              "      <td>-339603.000000</td>\n",
              "      <td>0.000000</td>\n",
              "      <td>0.000000e+00</td>\n",
              "      <td>0.00000</td>\n",
              "      <td>0.000000</td>\n",
              "      <td>0.000000</td>\n",
              "      <td>0.000000</td>\n",
              "      <td>0.000000</td>\n",
              "    </tr>\n",
              "    <tr>\n",
              "      <th>25%</th>\n",
              "      <td>50000.000000</td>\n",
              "      <td>1.000000</td>\n",
              "      <td>1.000000</td>\n",
              "      <td>1.000000</td>\n",
              "      <td>28.000000</td>\n",
              "      <td>-1.000000</td>\n",
              "      <td>-1.000000</td>\n",
              "      <td>-1.000000</td>\n",
              "      <td>-1.000000</td>\n",
              "      <td>-1.000000</td>\n",
              "      <td>-1.000000</td>\n",
              "      <td>3558.750000</td>\n",
              "      <td>2984.750000</td>\n",
              "      <td>2.666250e+03</td>\n",
              "      <td>2326.750000</td>\n",
              "      <td>1763.000000</td>\n",
              "      <td>1256.000000</td>\n",
              "      <td>1000.000000</td>\n",
              "      <td>8.330000e+02</td>\n",
              "      <td>390.00000</td>\n",
              "      <td>296.000000</td>\n",
              "      <td>252.500000</td>\n",
              "      <td>117.750000</td>\n",
              "      <td>0.000000</td>\n",
              "    </tr>\n",
              "    <tr>\n",
              "      <th>50%</th>\n",
              "      <td>140000.000000</td>\n",
              "      <td>2.000000</td>\n",
              "      <td>2.000000</td>\n",
              "      <td>2.000000</td>\n",
              "      <td>34.000000</td>\n",
              "      <td>0.000000</td>\n",
              "      <td>0.000000</td>\n",
              "      <td>0.000000</td>\n",
              "      <td>0.000000</td>\n",
              "      <td>0.000000</td>\n",
              "      <td>0.000000</td>\n",
              "      <td>22381.500000</td>\n",
              "      <td>21200.000000</td>\n",
              "      <td>2.008850e+04</td>\n",
              "      <td>19052.000000</td>\n",
              "      <td>18104.500000</td>\n",
              "      <td>17071.000000</td>\n",
              "      <td>2100.000000</td>\n",
              "      <td>2.009000e+03</td>\n",
              "      <td>1800.00000</td>\n",
              "      <td>1500.000000</td>\n",
              "      <td>1500.000000</td>\n",
              "      <td>1500.000000</td>\n",
              "      <td>0.000000</td>\n",
              "    </tr>\n",
              "    <tr>\n",
              "      <th>75%</th>\n",
              "      <td>240000.000000</td>\n",
              "      <td>2.000000</td>\n",
              "      <td>2.000000</td>\n",
              "      <td>2.000000</td>\n",
              "      <td>41.000000</td>\n",
              "      <td>0.000000</td>\n",
              "      <td>0.000000</td>\n",
              "      <td>0.000000</td>\n",
              "      <td>0.000000</td>\n",
              "      <td>0.000000</td>\n",
              "      <td>0.000000</td>\n",
              "      <td>67091.000000</td>\n",
              "      <td>64006.250000</td>\n",
              "      <td>6.016475e+04</td>\n",
              "      <td>54506.000000</td>\n",
              "      <td>50190.500000</td>\n",
              "      <td>49198.250000</td>\n",
              "      <td>5006.000000</td>\n",
              "      <td>5.000000e+03</td>\n",
              "      <td>4505.00000</td>\n",
              "      <td>4013.250000</td>\n",
              "      <td>4031.500000</td>\n",
              "      <td>4000.000000</td>\n",
              "      <td>0.000000</td>\n",
              "    </tr>\n",
              "    <tr>\n",
              "      <th>max</th>\n",
              "      <td>1000000.000000</td>\n",
              "      <td>2.000000</td>\n",
              "      <td>6.000000</td>\n",
              "      <td>3.000000</td>\n",
              "      <td>79.000000</td>\n",
              "      <td>8.000000</td>\n",
              "      <td>8.000000</td>\n",
              "      <td>8.000000</td>\n",
              "      <td>8.000000</td>\n",
              "      <td>8.000000</td>\n",
              "      <td>8.000000</td>\n",
              "      <td>964511.000000</td>\n",
              "      <td>983931.000000</td>\n",
              "      <td>1.664089e+06</td>\n",
              "      <td>891586.000000</td>\n",
              "      <td>927171.000000</td>\n",
              "      <td>961664.000000</td>\n",
              "      <td>873552.000000</td>\n",
              "      <td>1.684259e+06</td>\n",
              "      <td>896040.00000</td>\n",
              "      <td>621000.000000</td>\n",
              "      <td>426529.000000</td>\n",
              "      <td>528666.000000</td>\n",
              "      <td>1.000000</td>\n",
              "    </tr>\n",
              "  </tbody>\n",
              "</table>\n",
              "</div>"
            ],
            "text/plain": [
              "            LIMIT_BAL           SEX  ...       PAY_AMT6        target\n",
              "count    30000.000000  30000.000000  ...   30000.000000  30000.000000\n",
              "mean    167484.322667      1.603733  ...    5215.502567      0.221200\n",
              "std     129747.661567      0.489129  ...   17777.465775      0.415062\n",
              "min      10000.000000      1.000000  ...       0.000000      0.000000\n",
              "25%      50000.000000      1.000000  ...     117.750000      0.000000\n",
              "50%     140000.000000      2.000000  ...    1500.000000      0.000000\n",
              "75%     240000.000000      2.000000  ...    4000.000000      0.000000\n",
              "max    1000000.000000      2.000000  ...  528666.000000      1.000000\n",
              "\n",
              "[8 rows x 24 columns]"
            ]
          },
          "metadata": {},
          "execution_count": 262
        }
      ]
    },
    {
      "cell_type": "code",
      "metadata": {
        "id": "2pW6ZvAEvaMR",
        "colab": {
          "base_uri": "https://localhost:8080/",
          "height": 226
        },
        "outputId": "b27f1045-cefb-467e-aa0e-6e416fa945ea"
      },
      "source": [
        "from sklearn.preprocessing import StandardScaler\n",
        "\n",
        "scaler = StandardScaler()\n",
        "scaled_data = pd.DataFrame(scaler.fit_transform(X))\n",
        "scaled_data.columns = X.columns\n",
        "X = scaled_data\n",
        "X.head()"
      ],
      "execution_count": 263,
      "outputs": [
        {
          "output_type": "execute_result",
          "data": {
            "text/html": [
              "<div>\n",
              "<style scoped>\n",
              "    .dataframe tbody tr th:only-of-type {\n",
              "        vertical-align: middle;\n",
              "    }\n",
              "\n",
              "    .dataframe tbody tr th {\n",
              "        vertical-align: top;\n",
              "    }\n",
              "\n",
              "    .dataframe thead th {\n",
              "        text-align: right;\n",
              "    }\n",
              "</style>\n",
              "<table border=\"1\" class=\"dataframe\">\n",
              "  <thead>\n",
              "    <tr style=\"text-align: right;\">\n",
              "      <th></th>\n",
              "      <th>LIMIT_BAL</th>\n",
              "      <th>SEX</th>\n",
              "      <th>EDUCATION</th>\n",
              "      <th>MARRIAGE</th>\n",
              "      <th>AGE</th>\n",
              "      <th>PAY_0</th>\n",
              "      <th>PAY_2</th>\n",
              "      <th>PAY_3</th>\n",
              "      <th>PAY_4</th>\n",
              "      <th>PAY_5</th>\n",
              "      <th>PAY_6</th>\n",
              "      <th>BILL_AMT1</th>\n",
              "      <th>BILL_AMT2</th>\n",
              "      <th>BILL_AMT3</th>\n",
              "      <th>BILL_AMT4</th>\n",
              "      <th>BILL_AMT5</th>\n",
              "      <th>BILL_AMT6</th>\n",
              "      <th>PAY_AMT1</th>\n",
              "      <th>PAY_AMT2</th>\n",
              "      <th>PAY_AMT3</th>\n",
              "      <th>PAY_AMT4</th>\n",
              "      <th>PAY_AMT5</th>\n",
              "      <th>PAY_AMT6</th>\n",
              "    </tr>\n",
              "  </thead>\n",
              "  <tbody>\n",
              "    <tr>\n",
              "      <th>0</th>\n",
              "      <td>-1.136720</td>\n",
              "      <td>0.810161</td>\n",
              "      <td>0.185828</td>\n",
              "      <td>-1.057295</td>\n",
              "      <td>-1.246020</td>\n",
              "      <td>1.794564</td>\n",
              "      <td>1.782348</td>\n",
              "      <td>-0.696663</td>\n",
              "      <td>-0.666599</td>\n",
              "      <td>-1.530046</td>\n",
              "      <td>-1.486041</td>\n",
              "      <td>-0.642501</td>\n",
              "      <td>-0.647399</td>\n",
              "      <td>-0.667993</td>\n",
              "      <td>-0.672497</td>\n",
              "      <td>-0.663059</td>\n",
              "      <td>-0.652724</td>\n",
              "      <td>-0.341942</td>\n",
              "      <td>-0.227086</td>\n",
              "      <td>-0.296801</td>\n",
              "      <td>-0.308063</td>\n",
              "      <td>-0.314136</td>\n",
              "      <td>-0.293382</td>\n",
              "    </tr>\n",
              "    <tr>\n",
              "      <th>1</th>\n",
              "      <td>-0.365981</td>\n",
              "      <td>0.810161</td>\n",
              "      <td>0.185828</td>\n",
              "      <td>0.858557</td>\n",
              "      <td>-1.029047</td>\n",
              "      <td>-0.874991</td>\n",
              "      <td>1.782348</td>\n",
              "      <td>0.138865</td>\n",
              "      <td>0.188746</td>\n",
              "      <td>0.234917</td>\n",
              "      <td>1.992316</td>\n",
              "      <td>-0.659219</td>\n",
              "      <td>-0.666747</td>\n",
              "      <td>-0.639254</td>\n",
              "      <td>-0.621636</td>\n",
              "      <td>-0.606229</td>\n",
              "      <td>-0.597966</td>\n",
              "      <td>-0.341942</td>\n",
              "      <td>-0.213588</td>\n",
              "      <td>-0.240005</td>\n",
              "      <td>-0.244230</td>\n",
              "      <td>-0.314136</td>\n",
              "      <td>-0.180878</td>\n",
              "    </tr>\n",
              "    <tr>\n",
              "      <th>2</th>\n",
              "      <td>-0.597202</td>\n",
              "      <td>0.810161</td>\n",
              "      <td>0.185828</td>\n",
              "      <td>0.858557</td>\n",
              "      <td>-0.161156</td>\n",
              "      <td>0.014861</td>\n",
              "      <td>0.111736</td>\n",
              "      <td>0.138865</td>\n",
              "      <td>0.188746</td>\n",
              "      <td>0.234917</td>\n",
              "      <td>0.253137</td>\n",
              "      <td>-0.298560</td>\n",
              "      <td>-0.493899</td>\n",
              "      <td>-0.482408</td>\n",
              "      <td>-0.449730</td>\n",
              "      <td>-0.417188</td>\n",
              "      <td>-0.391630</td>\n",
              "      <td>-0.250292</td>\n",
              "      <td>-0.191887</td>\n",
              "      <td>-0.240005</td>\n",
              "      <td>-0.244230</td>\n",
              "      <td>-0.248683</td>\n",
              "      <td>-0.012122</td>\n",
              "    </tr>\n",
              "    <tr>\n",
              "      <th>3</th>\n",
              "      <td>-0.905498</td>\n",
              "      <td>0.810161</td>\n",
              "      <td>0.185828</td>\n",
              "      <td>-1.057295</td>\n",
              "      <td>0.164303</td>\n",
              "      <td>0.014861</td>\n",
              "      <td>0.111736</td>\n",
              "      <td>0.138865</td>\n",
              "      <td>0.188746</td>\n",
              "      <td>0.234917</td>\n",
              "      <td>0.253137</td>\n",
              "      <td>-0.057491</td>\n",
              "      <td>-0.013293</td>\n",
              "      <td>0.032846</td>\n",
              "      <td>-0.232373</td>\n",
              "      <td>-0.186729</td>\n",
              "      <td>-0.156579</td>\n",
              "      <td>-0.221191</td>\n",
              "      <td>-0.169361</td>\n",
              "      <td>-0.228645</td>\n",
              "      <td>-0.237846</td>\n",
              "      <td>-0.244166</td>\n",
              "      <td>-0.237130</td>\n",
              "    </tr>\n",
              "    <tr>\n",
              "      <th>4</th>\n",
              "      <td>-0.905498</td>\n",
              "      <td>-1.234323</td>\n",
              "      <td>0.185828</td>\n",
              "      <td>-1.057295</td>\n",
              "      <td>2.334029</td>\n",
              "      <td>-0.874991</td>\n",
              "      <td>0.111736</td>\n",
              "      <td>-0.696663</td>\n",
              "      <td>0.188746</td>\n",
              "      <td>0.234917</td>\n",
              "      <td>0.253137</td>\n",
              "      <td>-0.578618</td>\n",
              "      <td>-0.611318</td>\n",
              "      <td>-0.161189</td>\n",
              "      <td>-0.346997</td>\n",
              "      <td>-0.348137</td>\n",
              "      <td>-0.331482</td>\n",
              "      <td>-0.221191</td>\n",
              "      <td>1.335034</td>\n",
              "      <td>0.271165</td>\n",
              "      <td>0.266434</td>\n",
              "      <td>-0.269039</td>\n",
              "      <td>-0.255187</td>\n",
              "    </tr>\n",
              "  </tbody>\n",
              "</table>\n",
              "</div>"
            ],
            "text/plain": [
              "   LIMIT_BAL       SEX  EDUCATION  ...  PAY_AMT4  PAY_AMT5  PAY_AMT6\n",
              "0  -1.136720  0.810161   0.185828  ... -0.308063 -0.314136 -0.293382\n",
              "1  -0.365981  0.810161   0.185828  ... -0.244230 -0.314136 -0.180878\n",
              "2  -0.597202  0.810161   0.185828  ... -0.244230 -0.248683 -0.012122\n",
              "3  -0.905498  0.810161   0.185828  ... -0.237846 -0.244166 -0.237130\n",
              "4  -0.905498 -1.234323   0.185828  ...  0.266434 -0.269039 -0.255187\n",
              "\n",
              "[5 rows x 23 columns]"
            ]
          },
          "metadata": {},
          "execution_count": 263
        }
      ]
    },
    {
      "cell_type": "markdown",
      "metadata": {
        "id": "R1gcMAaVgNrm"
      },
      "source": [
        "1. Tworzenie nowej zmiennej porządkującej wiek na sześć kategorii i przekształcanie w zmienne kategorialne."
      ]
    },
    {
      "cell_type": "code",
      "metadata": {
        "id": "0wWDAdudgMZE"
      },
      "source": [
        "df['AGE_KA'] = 0 \n",
        "df.loc[(df['AGE'] < 30) , 'AGE_KA'] = 1\n",
        "df.loc[((df['AGE'] >= 30) & (df['AGE'] < 40)) , 'AGE_KA'] = 2\n",
        "df.loc[((df['AGE'] >= 40) & (df['AGE'] < 50)) , 'AGE_KA'] = 3\n",
        "df.loc[((df['AGE'] >= 50) & (df['AGE'] < 60)) , 'AGE_KA'] = 4\n",
        "df.loc[((df['AGE'] >= 60) & (df['AGE'] < 70)) , 'AGE_KA'] = 5\n",
        "df.loc[(df['AGE'] >= 70) , 'AGE_KA'] = 6"
      ],
      "execution_count": 264,
      "outputs": []
    },
    {
      "cell_type": "markdown",
      "metadata": {
        "id": "B5L-CWuvZlmi"
      },
      "source": [
        "2. Tworzenie nowej zmiennej porządkującej limit na sześć kategorii i przekształcanie w zmienne kategorialne."
      ]
    },
    {
      "cell_type": "code",
      "metadata": {
        "id": "wlMhd6YXh07V"
      },
      "source": [
        "df['LIMIT_BAL_EDU'] = 0 \n",
        "df.loc[(df['LIMIT_BAL'] < 200000) , 'LIMIT_BAL_EDU'] = 1\n",
        "df.loc[((df['LIMIT_BAL'] >= 200000) & (df['LIMIT_BAL'] < 400000)) , 'LIMIT_BAL_EDU'] = 2\n",
        "df.loc[((df['LIMIT_BAL'] >= 400000) & (df['LIMIT_BAL'] < 600000)) , 'LIMIT_BAL_EDU'] = 3\n",
        "df.loc[((df['LIMIT_BAL'] >= 600000) & (df['LIMIT_BAL'] < 800000)) , 'LIMIT_BAL_EDU'] = 4\n",
        "df.loc[((df['LIMIT_BAL'] >= 800000) & (df['LIMIT_BAL'] < 1000000)) , 'LIMIT_BAL_EDU'] = 5\n",
        "df.loc[(df['LIMIT_BAL'] >= 1000000) , 'LIMIT_BAL_EDU'] = 6"
      ],
      "execution_count": 265,
      "outputs": []
    },
    {
      "cell_type": "markdown",
      "metadata": {
        "id": "7c1hRDJGn7gq"
      },
      "source": [
        "3. Zmniejszenie liczby nieznanych zmiennych (4, 5, 6) edukacyjnych do jednej zmiennej, że początkowo jest ich 3 (1=szkole wyższe, 2=uniwersytet, 3=szkole średnie, 4=inne, 5=nieznane, 6=nieznane)"
      ]
    },
    {
      "cell_type": "code",
      "metadata": {
        "id": "aY8s6TeUP8HU"
      },
      "source": [
        "df.loc[:,'EDUCATION'] = df.loc[:,'EDUCATION'].replace(0,4)\n",
        "df.loc[:,'EDUCATION'] = df.loc[:,'EDUCATION'].replace(6,4)\n",
        "df.loc[:,'EDUCATION'] = df.loc[:,'EDUCATION'].replace(5,4)"
      ],
      "execution_count": 266,
      "outputs": []
    },
    {
      "cell_type": "markdown",
      "source": [
        "4. Utwórzie nową zmienną kategoryczną z 6 grup, do których należą:\n",
        "\n",
        "\n",
        "*   1 Żonaty mężczyzna \n",
        "*   2 Samotny mężczyzna\n",
        "*   3 Status mężczyzny nieznany\n",
        "*   4 Kobieta zamężna \n",
        "*   5 Samotna kobieta\n",
        "*   6 Status kobieta nieznany\n",
        "\n",
        "\n",
        "\n"
      ],
      "metadata": {
        "id": "FjdTA8Y_Wyld"
      }
    },
    {
      "cell_type": "code",
      "metadata": {
        "id": "hrNKxZLKZxMU"
      },
      "source": [
        "df['SEX_MARRIAGE'] = 0\n",
        "df.loc[((df.SEX == 1) & (df.MARRIAGE == 1)) , 'SEX_MARRIAGE'] = 1\n",
        "df.loc[((df.SEX == 1) & (df.MARRIAGE == 2)) , 'SEX_MARRIAGE'] = 2\n",
        "df.loc[((df.SEX == 1) & (df.MARRIAGE == 3)) , 'SEX_MARRIAGE'] = 3\n",
        "df.loc[((df.SEX == 2) & (df.MARRIAGE == 1)) , 'SEX_MARRIAGE'] = 4\n",
        "df.loc[((df.SEX == 2) & (df.MARRIAGE == 2)) , 'SEX_MARRIAGE'] = 5\n",
        "df.loc[((df.SEX == 2) & (df.MARRIAGE == 3)) , 'SEX_MARRIAGE'] = 6"
      ],
      "execution_count": 267,
      "outputs": []
    },
    {
      "cell_type": "markdown",
      "source": [
        "5. Utwórzie nową zmienną kategoryczną z 8 grup, do których należą:\n",
        "\n",
        "\n",
        "*   1 Mężczyzna z wykształceniem wyższym szkolnym\n",
        "*   2 Mężczyzna z wyższym wykształceniem universytet\n",
        "*   3 Mężczyzna z wykształceniem średnim szkolnym\n",
        "*   4 Mężczyzna nieznany status wykształcenie \n",
        "*   5 Kobieta z wykształceniem wyższym szkolnym\n",
        "*   6 Kobieta z wyższym wykształceniem universytet\n",
        "*   7 Kobieta z wykształceniem średnim szkolnym\n",
        "*   8 Kobieta nieznany status wykształcenie \n"
      ],
      "metadata": {
        "id": "DVmuu3c-YXse"
      }
    },
    {
      "cell_type": "code",
      "metadata": {
        "id": "Pv6kHiZYcKIw"
      },
      "source": [
        "df['SEX_EDUCATION'] = 0\n",
        "df.loc[((df.SEX == 1) & (df.EDUCATION == 1)) , 'SEX_EDUCATION'] = 1 \n",
        "df.loc[((df.SEX == 1) & (df.EDUCATION == 2)) , 'SEX_EDUCATION'] = 2 \n",
        "df.loc[((df.SEX == 1) & (df.EDUCATION == 3)) , 'SEX_EDUCATION'] = 3 \n",
        "df.loc[((df.SEX == 1) & (df.EDUCATION == 4)) , 'SEX_EDUCATION'] = 4 \n",
        "df.loc[((df.SEX == 2) & (df.EDUCATION == 1)) , 'SEX_EDUCATION'] = 5\n",
        "df.loc[((df.SEX == 2) & (df.EDUCATION == 2)) , 'SEX_EDUCATION'] = 6 \n",
        "df.loc[((df.SEX == 2) & (df.EDUCATION == 3)) , 'SEX_EDUCATION'] = 7 \n",
        "df.loc[((df.SEX == 2) & (df.EDUCATION == 4)) , 'SEX_EDUCATION'] = 8"
      ],
      "execution_count": 268,
      "outputs": []
    },
    {
      "cell_type": "code",
      "metadata": {
        "id": "GqWLptSwtbB9"
      },
      "source": [
        "df = df.drop(['LIMIT_BAL', 'SEX', 'EDUCATION', 'MARRIAGE', 'AGE'], axis=1)"
      ],
      "execution_count": 269,
      "outputs": []
    },
    {
      "cell_type": "code",
      "metadata": {
        "id": "K2kdWbkuqJT2"
      },
      "source": [
        "X = df.drop(['target'], axis=1)\n",
        "y = df.target"
      ],
      "execution_count": 270,
      "outputs": []
    },
    {
      "cell_type": "code",
      "metadata": {
        "colab": {
          "base_uri": "https://localhost:8080/",
          "height": 226
        },
        "id": "eH08tZB7qFXR",
        "outputId": "602e9efd-55ee-4737-b4cf-190273552b52"
      },
      "source": [
        "from sklearn.preprocessing import StandardScaler\n",
        "\n",
        "scaler = StandardScaler()\n",
        "scaled_data = pd.DataFrame(scaler.fit_transform(X))\n",
        "scaled_data.columns = X.columns\n",
        "X = scaled_data\n",
        "X.head()"
      ],
      "execution_count": 271,
      "outputs": [
        {
          "output_type": "execute_result",
          "data": {
            "text/html": [
              "<div>\n",
              "<style scoped>\n",
              "    .dataframe tbody tr th:only-of-type {\n",
              "        vertical-align: middle;\n",
              "    }\n",
              "\n",
              "    .dataframe tbody tr th {\n",
              "        vertical-align: top;\n",
              "    }\n",
              "\n",
              "    .dataframe thead th {\n",
              "        text-align: right;\n",
              "    }\n",
              "</style>\n",
              "<table border=\"1\" class=\"dataframe\">\n",
              "  <thead>\n",
              "    <tr style=\"text-align: right;\">\n",
              "      <th></th>\n",
              "      <th>PAY_0</th>\n",
              "      <th>PAY_2</th>\n",
              "      <th>PAY_3</th>\n",
              "      <th>PAY_4</th>\n",
              "      <th>PAY_5</th>\n",
              "      <th>PAY_6</th>\n",
              "      <th>BILL_AMT1</th>\n",
              "      <th>BILL_AMT2</th>\n",
              "      <th>BILL_AMT3</th>\n",
              "      <th>BILL_AMT4</th>\n",
              "      <th>BILL_AMT5</th>\n",
              "      <th>BILL_AMT6</th>\n",
              "      <th>PAY_AMT1</th>\n",
              "      <th>PAY_AMT2</th>\n",
              "      <th>PAY_AMT3</th>\n",
              "      <th>PAY_AMT4</th>\n",
              "      <th>PAY_AMT5</th>\n",
              "      <th>PAY_AMT6</th>\n",
              "      <th>AGE_KA</th>\n",
              "      <th>LIMIT_BAL_EDU</th>\n",
              "      <th>SEX_MARRIAGE</th>\n",
              "      <th>SEX_EDUCATION</th>\n",
              "    </tr>\n",
              "  </thead>\n",
              "  <tbody>\n",
              "    <tr>\n",
              "      <th>0</th>\n",
              "      <td>1.794564</td>\n",
              "      <td>1.782348</td>\n",
              "      <td>-0.696663</td>\n",
              "      <td>-0.666599</td>\n",
              "      <td>-1.530046</td>\n",
              "      <td>-1.486041</td>\n",
              "      <td>-0.642501</td>\n",
              "      <td>-0.647399</td>\n",
              "      <td>-0.667993</td>\n",
              "      <td>-0.672497</td>\n",
              "      <td>-0.663059</td>\n",
              "      <td>-0.652724</td>\n",
              "      <td>-0.341942</td>\n",
              "      <td>-0.227086</td>\n",
              "      <td>-0.296801</td>\n",
              "      <td>-0.308063</td>\n",
              "      <td>-0.314136</td>\n",
              "      <td>-0.293382</td>\n",
              "      <td>-1.114813</td>\n",
              "      <td>-0.70334</td>\n",
              "      <td>0.414377</td>\n",
              "      <td>0.828798</td>\n",
              "    </tr>\n",
              "    <tr>\n",
              "      <th>1</th>\n",
              "      <td>-0.874991</td>\n",
              "      <td>1.782348</td>\n",
              "      <td>0.138865</td>\n",
              "      <td>0.188746</td>\n",
              "      <td>0.234917</td>\n",
              "      <td>1.992316</td>\n",
              "      <td>-0.659219</td>\n",
              "      <td>-0.666747</td>\n",
              "      <td>-0.639254</td>\n",
              "      <td>-0.621636</td>\n",
              "      <td>-0.606229</td>\n",
              "      <td>-0.597966</td>\n",
              "      <td>-0.341942</td>\n",
              "      <td>-0.213588</td>\n",
              "      <td>-0.240005</td>\n",
              "      <td>-0.244230</td>\n",
              "      <td>-0.314136</td>\n",
              "      <td>-0.180878</td>\n",
              "      <td>-1.114813</td>\n",
              "      <td>-0.70334</td>\n",
              "      <td>1.060898</td>\n",
              "      <td>0.828798</td>\n",
              "    </tr>\n",
              "    <tr>\n",
              "      <th>2</th>\n",
              "      <td>0.014861</td>\n",
              "      <td>0.111736</td>\n",
              "      <td>0.138865</td>\n",
              "      <td>0.188746</td>\n",
              "      <td>0.234917</td>\n",
              "      <td>0.253137</td>\n",
              "      <td>-0.298560</td>\n",
              "      <td>-0.493899</td>\n",
              "      <td>-0.482408</td>\n",
              "      <td>-0.449730</td>\n",
              "      <td>-0.417188</td>\n",
              "      <td>-0.391630</td>\n",
              "      <td>-0.250292</td>\n",
              "      <td>-0.191887</td>\n",
              "      <td>-0.240005</td>\n",
              "      <td>-0.244230</td>\n",
              "      <td>-0.248683</td>\n",
              "      <td>-0.012122</td>\n",
              "      <td>-0.087967</td>\n",
              "      <td>-0.70334</td>\n",
              "      <td>1.060898</td>\n",
              "      <td>0.828798</td>\n",
              "    </tr>\n",
              "    <tr>\n",
              "      <th>3</th>\n",
              "      <td>0.014861</td>\n",
              "      <td>0.111736</td>\n",
              "      <td>0.138865</td>\n",
              "      <td>0.188746</td>\n",
              "      <td>0.234917</td>\n",
              "      <td>0.253137</td>\n",
              "      <td>-0.057491</td>\n",
              "      <td>-0.013293</td>\n",
              "      <td>0.032846</td>\n",
              "      <td>-0.232373</td>\n",
              "      <td>-0.186729</td>\n",
              "      <td>-0.156579</td>\n",
              "      <td>-0.221191</td>\n",
              "      <td>-0.169361</td>\n",
              "      <td>-0.228645</td>\n",
              "      <td>-0.237846</td>\n",
              "      <td>-0.244166</td>\n",
              "      <td>-0.237130</td>\n",
              "      <td>-0.087967</td>\n",
              "      <td>-0.70334</td>\n",
              "      <td>0.414377</td>\n",
              "      <td>0.828798</td>\n",
              "    </tr>\n",
              "    <tr>\n",
              "      <th>4</th>\n",
              "      <td>-0.874991</td>\n",
              "      <td>0.111736</td>\n",
              "      <td>-0.696663</td>\n",
              "      <td>0.188746</td>\n",
              "      <td>0.234917</td>\n",
              "      <td>0.253137</td>\n",
              "      <td>-0.578618</td>\n",
              "      <td>-0.611318</td>\n",
              "      <td>-0.161189</td>\n",
              "      <td>-0.346997</td>\n",
              "      <td>-0.348137</td>\n",
              "      <td>-0.331482</td>\n",
              "      <td>-0.221191</td>\n",
              "      <td>1.335034</td>\n",
              "      <td>0.271165</td>\n",
              "      <td>0.266434</td>\n",
              "      <td>-0.269039</td>\n",
              "      <td>-0.255187</td>\n",
              "      <td>1.965726</td>\n",
              "      <td>-0.70334</td>\n",
              "      <td>-1.525186</td>\n",
              "      <td>-1.073424</td>\n",
              "    </tr>\n",
              "  </tbody>\n",
              "</table>\n",
              "</div>"
            ],
            "text/plain": [
              "      PAY_0     PAY_2     PAY_3  ...  LIMIT_BAL_EDU  SEX_MARRIAGE  SEX_EDUCATION\n",
              "0  1.794564  1.782348 -0.696663  ...       -0.70334      0.414377       0.828798\n",
              "1 -0.874991  1.782348  0.138865  ...       -0.70334      1.060898       0.828798\n",
              "2  0.014861  0.111736  0.138865  ...       -0.70334      1.060898       0.828798\n",
              "3  0.014861  0.111736  0.138865  ...       -0.70334      0.414377       0.828798\n",
              "4 -0.874991  0.111736 -0.696663  ...       -0.70334     -1.525186      -1.073424\n",
              "\n",
              "[5 rows x 22 columns]"
            ]
          },
          "metadata": {},
          "execution_count": 271
        }
      ]
    },
    {
      "cell_type": "code",
      "metadata": {
        "id": "C1RUkW9Fbwzg"
      },
      "source": [
        "from sklearn.model_selection import train_test_split\n",
        "\n",
        "X_train, X_test, y_train, y_test = train_test_split(X, y, test_size=0.2, random_state=seed_value) "
      ],
      "execution_count": 272,
      "outputs": []
    },
    {
      "cell_type": "markdown",
      "metadata": {
        "id": "m8AVL8SCqOR8"
      },
      "source": [
        "## 3. Budowa Modeli"
      ]
    },
    {
      "cell_type": "markdown",
      "metadata": {
        "id": "EWiGRLuq041U"
      },
      "source": [
        "LDA"
      ]
    },
    {
      "cell_type": "code",
      "metadata": {
        "id": "vOYOjJg5px23"
      },
      "source": [
        "from sklearn.discriminant_analysis import LinearDiscriminantAnalysis as LDA\n",
        "\n",
        "def model_LDA(X_train, y_train):\n",
        "  m_LDA = LDA()\n",
        "  m_LDA.fit(X_train, y_train)\n",
        "  return m_LDA"
      ],
      "execution_count": 273,
      "outputs": []
    },
    {
      "cell_type": "markdown",
      "metadata": {
        "id": "9fXH-iVo025K"
      },
      "source": [
        "XGboost"
      ]
    },
    {
      "cell_type": "code",
      "metadata": {
        "id": "siyCQ0w1p1Bi"
      },
      "source": [
        " from xgboost import XGBClassifier\n",
        "\n",
        "def model_xgboost(X_train, y_train):\n",
        "  model_boost = XGBClassifier(random_state=seed_value)\n",
        "  parameters = {\n",
        "    'max_depth' : range(1, 10),\n",
        "    'criterion' : [\"entropy\", \"gini\"]\n",
        "  }\n",
        "\n",
        "  output_model = GridSearchCV(model_boost, parameters, scoring=\"roc_auc\")\n",
        "  output_model.fit(X_train, y_train)\n",
        "\n",
        "  return output_model "
      ],
      "execution_count": 274,
      "outputs": []
    },
    {
      "cell_type": "markdown",
      "metadata": {
        "id": "GYK8ceny05-H"
      },
      "source": [
        "Decision tree"
      ]
    },
    {
      "cell_type": "code",
      "metadata": {
        "id": "DD7G7qqop1tq"
      },
      "source": [
        "from sklearn.model_selection import GridSearchCV\n",
        "from sklearn.tree import DecisionTreeClassifier\n",
        "\n",
        "def model_decision_tree(X_train, y_train):\n",
        "  parameters = {\n",
        "      'max_depth' : range(1, 10), \n",
        "      'min_samples_split' : [0.1, 0.2],\n",
        "      'criterion' : [\"entropy\", \"gini\"]\n",
        "  }\n",
        "                \n",
        "  decision_tree_model = DecisionTreeClassifier(random_state=seed_value)\n",
        "  output_model = GridSearchCV(decision_tree_model, parameters, scoring=\"roc_auc\")\n",
        "  output_model.fit(X_train, y_train)\n",
        "\n",
        "  return output_model"
      ],
      "execution_count": 275,
      "outputs": []
    },
    {
      "cell_type": "code",
      "metadata": {
        "id": "govoR6a_xjwr"
      },
      "source": [
        "from sklearn.model_selection import GridSearchCV\n",
        "from sklearn.ensemble import RandomForestClassifier\n",
        "\n",
        "def model_random_forest_basic(X_train, y_train):\n",
        "\n",
        "  output_model = RandomForestClassifier(random_state=0)\n",
        "  output_model.fit(X_train, y_train)\n",
        "  return output_model"
      ],
      "execution_count": 276,
      "outputs": []
    },
    {
      "cell_type": "markdown",
      "metadata": {
        "id": "Epq6Y-SP07tG"
      },
      "source": [
        "Random forest"
      ]
    },
    {
      "cell_type": "code",
      "metadata": {
        "id": "Mt4KVPPvp4FZ"
      },
      "source": [
        "from sklearn.model_selection import GridSearchCV\n",
        "from sklearn.ensemble import RandomForestClassifier\n",
        "\n",
        "def model_random_forest(X_train, y_train):\n",
        "\n",
        "  parameters = {\n",
        "      'max_depth' : range(1, 10), \n",
        "      'min_samples_split' : [0.1, 0.2],\n",
        "      'criterion' : [\"entropy\", \"gini\"]\n",
        "  }\n",
        "\n",
        "  model_random_forest = RandomForestClassifier(random_state=seed_value)\n",
        "  output_model = GridSearchCV(model_random_forest, parameters, scoring=\"roc_auc\")\n",
        "  output_model.fit(X_train, y_train)\n",
        "  return output_model"
      ],
      "execution_count": 277,
      "outputs": []
    },
    {
      "cell_type": "markdown",
      "source": [
        "Neural network"
      ],
      "metadata": {
        "id": "zFvefUX6Evup"
      }
    },
    {
      "cell_type": "code",
      "source": [
        "from keras.metrics import AUC\n",
        "\n",
        "hidden_layers = 30\n",
        "input_layers = X_train.shape[1]\n",
        "output_layer = 1\n",
        "epoch_size = 100\n",
        "batch_size = 50\n",
        "\n",
        "loss = 'mse'\n",
        "optimizer = 'adam'\n",
        "metric = [AUC()]\n",
        "\n",
        "callback = keras.callbacks.EarlyStopping(monitor='val_loss',\n",
        "                              min_delta=0.001,\n",
        "                              patience=3,\n",
        "                              verbose=0, mode='auto')"
      ],
      "metadata": {
        "id": "KI75LseGEnpU"
      },
      "execution_count": 278,
      "outputs": []
    },
    {
      "cell_type": "code",
      "source": [
        "import keras\n",
        "from keras.models import Sequential\n",
        "from keras.layers import Dense\n",
        "\n",
        "\n",
        "def neural_net(X, y):\n",
        "  model = Sequential()\n",
        "  model.add(Dense(hidden_layers / 2, \n",
        "                  kernel_initializer=keras.initializers.glorot_uniform(seed=seed_value), \n",
        "                  input_dim=X.shape[1], \n",
        "                  activation='relu'))\n",
        "  \n",
        "  model.add(Dense(hidden_layers, \n",
        "                  kernel_initializer=keras.initializers.glorot_uniform(seed=seed_value), \n",
        "                  activation='relu'))\n",
        "\n",
        "  model.add(Dense(output_layer, \n",
        "                  kernel_initializer=keras.initializers.glorot_uniform(seed=seed_value), \n",
        "                  activation='sigmoid'))\n",
        "\n",
        "  model.compile(loss=loss, optimizer=optimizer, metrics=metric)\n",
        "  history = model.fit(X, y, validation_data=(X_test, y_test), epochs=epoch_size, batch_size=batch_size, callbacks=[callback])\n",
        "\n",
        "  return model, history"
      ],
      "metadata": {
        "id": "o5Hyd02KEic_"
      },
      "execution_count": 279,
      "outputs": []
    },
    {
      "cell_type": "code",
      "source": [
        "model_neural_network, history_over = neural_net(X_train, y_train) "
      ],
      "metadata": {
        "colab": {
          "base_uri": "https://localhost:8080/",
          "height": 0
        },
        "id": "y-UednAgFGQ-",
        "outputId": "f9822868-9fe3-4e10-cdd5-d89a09b07a8f"
      },
      "execution_count": 280,
      "outputs": [
        {
          "output_type": "stream",
          "name": "stdout",
          "text": [
            "Epoch 1/100\n",
            "480/480 [==============================] - 2s 3ms/step - loss: 0.1580 - auc_5: 0.6765 - val_loss: 0.1416 - val_auc_5: 0.7189\n",
            "Epoch 2/100\n",
            "480/480 [==============================] - 1s 3ms/step - loss: 0.1429 - auc_5: 0.7274 - val_loss: 0.1371 - val_auc_5: 0.7413\n",
            "Epoch 3/100\n",
            "480/480 [==============================] - 1s 3ms/step - loss: 0.1405 - auc_5: 0.7418 - val_loss: 0.1371 - val_auc_5: 0.7461\n",
            "Epoch 4/100\n",
            "480/480 [==============================] - 1s 3ms/step - loss: 0.1393 - auc_5: 0.7490 - val_loss: 0.1350 - val_auc_5: 0.7519\n",
            "Epoch 5/100\n",
            "480/480 [==============================] - 1s 3ms/step - loss: 0.1385 - auc_5: 0.7550 - val_loss: 0.1349 - val_auc_5: 0.7534\n",
            "Epoch 6/100\n",
            "480/480 [==============================] - 1s 3ms/step - loss: 0.1380 - auc_5: 0.7591 - val_loss: 0.1343 - val_auc_5: 0.7587\n",
            "Epoch 7/100\n",
            "480/480 [==============================] - 1s 3ms/step - loss: 0.1376 - auc_5: 0.7623 - val_loss: 0.1346 - val_auc_5: 0.7584\n"
          ]
        }
      ]
    },
    {
      "cell_type": "code",
      "metadata": {
        "id": "rQXo6mH3qhTC"
      },
      "source": [
        " def run_models(X_train, y_train):\n",
        "  models = list()\n",
        "  models.append(model_LDA(X_train, y_train))\n",
        "  models.append(model_xgboost(X_train, y_train))\n",
        "  models.append(model_decision_tree(X_train, y_train))\n",
        "  models.append(model_random_forest(X_train, y_train))\n",
        "  models.append(model_random_forest_basic(X_train, y_train))\n",
        "  return models\n",
        "\n",
        "models = run_models(X_train, y_train)"
      ],
      "execution_count": 281,
      "outputs": []
    },
    {
      "cell_type": "code",
      "source": [
        "models.append(model_neural_network)"
      ],
      "metadata": {
        "id": "KC0kcydcF_ry"
      },
      "execution_count": 282,
      "outputs": []
    },
    {
      "cell_type": "markdown",
      "source": [
        ""
      ],
      "metadata": {
        "id": "Ac5FvsKnavSf"
      }
    },
    {
      "cell_type": "markdown",
      "metadata": {
        "id": "JoOpg4IVc47V"
      },
      "source": [
        "# 3. **Porównanie wybranych modeli**"
      ]
    },
    {
      "cell_type": "markdown",
      "source": [
        "W tej części analizy zostanie wybrany najlepszy model na podstawie różnych metryk"
      ],
      "metadata": {
        "id": "9slYM50FavEo"
      }
    },
    {
      "cell_type": "code",
      "source": [
        "X_train.head()"
      ],
      "metadata": {
        "colab": {
          "base_uri": "https://localhost:8080/",
          "height": 226
        },
        "id": "jJkqcy4XLRaM",
        "outputId": "9b0138e9-1349-49f4-c39e-f9045a563cfc"
      },
      "execution_count": 283,
      "outputs": [
        {
          "output_type": "execute_result",
          "data": {
            "text/html": [
              "<div>\n",
              "<style scoped>\n",
              "    .dataframe tbody tr th:only-of-type {\n",
              "        vertical-align: middle;\n",
              "    }\n",
              "\n",
              "    .dataframe tbody tr th {\n",
              "        vertical-align: top;\n",
              "    }\n",
              "\n",
              "    .dataframe thead th {\n",
              "        text-align: right;\n",
              "    }\n",
              "</style>\n",
              "<table border=\"1\" class=\"dataframe\">\n",
              "  <thead>\n",
              "    <tr style=\"text-align: right;\">\n",
              "      <th></th>\n",
              "      <th>PAY_0</th>\n",
              "      <th>PAY_2</th>\n",
              "      <th>PAY_3</th>\n",
              "      <th>PAY_4</th>\n",
              "      <th>PAY_5</th>\n",
              "      <th>PAY_6</th>\n",
              "      <th>BILL_AMT1</th>\n",
              "      <th>BILL_AMT2</th>\n",
              "      <th>BILL_AMT3</th>\n",
              "      <th>BILL_AMT4</th>\n",
              "      <th>BILL_AMT5</th>\n",
              "      <th>BILL_AMT6</th>\n",
              "      <th>PAY_AMT1</th>\n",
              "      <th>PAY_AMT2</th>\n",
              "      <th>PAY_AMT3</th>\n",
              "      <th>PAY_AMT4</th>\n",
              "      <th>PAY_AMT5</th>\n",
              "      <th>PAY_AMT6</th>\n",
              "      <th>AGE_KA</th>\n",
              "      <th>LIMIT_BAL_EDU</th>\n",
              "      <th>SEX_MARRIAGE</th>\n",
              "      <th>SEX_EDUCATION</th>\n",
              "    </tr>\n",
              "  </thead>\n",
              "  <tbody>\n",
              "    <tr>\n",
              "      <th>3225</th>\n",
              "      <td>0.014861</td>\n",
              "      <td>0.111736</td>\n",
              "      <td>1.809921</td>\n",
              "      <td>0.188746</td>\n",
              "      <td>0.234917</td>\n",
              "      <td>-1.486041</td>\n",
              "      <td>-0.463482</td>\n",
              "      <td>-0.422453</td>\n",
              "      <td>-0.418657</td>\n",
              "      <td>-0.380573</td>\n",
              "      <td>-0.663059</td>\n",
              "      <td>-0.652724</td>\n",
              "      <td>-0.160815</td>\n",
              "      <td>-0.256990</td>\n",
              "      <td>-0.240005</td>\n",
              "      <td>-0.244230</td>\n",
              "      <td>-0.314136</td>\n",
              "      <td>-0.293382</td>\n",
              "      <td>0.938880</td>\n",
              "      <td>-0.703340</td>\n",
              "      <td>0.414377</td>\n",
              "      <td>1.304354</td>\n",
              "    </tr>\n",
              "    <tr>\n",
              "      <th>11815</th>\n",
              "      <td>-0.874991</td>\n",
              "      <td>-0.723570</td>\n",
              "      <td>-0.696663</td>\n",
              "      <td>-0.666599</td>\n",
              "      <td>-0.647565</td>\n",
              "      <td>-0.616452</td>\n",
              "      <td>-0.693401</td>\n",
              "      <td>-0.688665</td>\n",
              "      <td>-0.673978</td>\n",
              "      <td>-0.669932</td>\n",
              "      <td>-0.657581</td>\n",
              "      <td>-0.649954</td>\n",
              "      <td>-0.331980</td>\n",
              "      <td>-0.245097</td>\n",
              "      <td>-0.287430</td>\n",
              "      <td>-0.286806</td>\n",
              "      <td>-0.303336</td>\n",
              "      <td>-0.276900</td>\n",
              "      <td>-0.087967</td>\n",
              "      <td>0.880284</td>\n",
              "      <td>1.060898</td>\n",
              "      <td>0.828798</td>\n",
              "    </tr>\n",
              "    <tr>\n",
              "      <th>7338</th>\n",
              "      <td>1.794564</td>\n",
              "      <td>0.111736</td>\n",
              "      <td>0.138865</td>\n",
              "      <td>0.188746</td>\n",
              "      <td>0.234917</td>\n",
              "      <td>0.253137</td>\n",
              "      <td>-0.420445</td>\n",
              "      <td>-0.405368</td>\n",
              "      <td>-0.399638</td>\n",
              "      <td>-0.362728</td>\n",
              "      <td>-0.330735</td>\n",
              "      <td>-0.310206</td>\n",
              "      <td>-0.251378</td>\n",
              "      <td>-0.191887</td>\n",
              "      <td>-0.245684</td>\n",
              "      <td>-0.263380</td>\n",
              "      <td>-0.217265</td>\n",
              "      <td>-0.293382</td>\n",
              "      <td>-0.087967</td>\n",
              "      <td>-0.703340</td>\n",
              "      <td>-1.525186</td>\n",
              "      <td>-1.073424</td>\n",
              "    </tr>\n",
              "    <tr>\n",
              "      <th>14980</th>\n",
              "      <td>1.794564</td>\n",
              "      <td>1.782348</td>\n",
              "      <td>1.809921</td>\n",
              "      <td>1.899436</td>\n",
              "      <td>1.999879</td>\n",
              "      <td>1.992316</td>\n",
              "      <td>-0.312344</td>\n",
              "      <td>-0.279645</td>\n",
              "      <td>-0.265013</td>\n",
              "      <td>-0.204191</td>\n",
              "      <td>-0.160971</td>\n",
              "      <td>-0.152448</td>\n",
              "      <td>-0.233266</td>\n",
              "      <td>-0.250479</td>\n",
              "      <td>-0.169009</td>\n",
              "      <td>-0.244230</td>\n",
              "      <td>-0.314136</td>\n",
              "      <td>-0.254006</td>\n",
              "      <td>-1.114813</td>\n",
              "      <td>-0.703340</td>\n",
              "      <td>-1.525186</td>\n",
              "      <td>-1.073424</td>\n",
              "    </tr>\n",
              "    <tr>\n",
              "      <th>27167</th>\n",
              "      <td>0.014861</td>\n",
              "      <td>0.111736</td>\n",
              "      <td>0.138865</td>\n",
              "      <td>0.188746</td>\n",
              "      <td>0.234917</td>\n",
              "      <td>0.253137</td>\n",
              "      <td>-0.583263</td>\n",
              "      <td>-0.572834</td>\n",
              "      <td>-0.553917</td>\n",
              "      <td>-0.525292</td>\n",
              "      <td>-0.553019</td>\n",
              "      <td>-0.490012</td>\n",
              "      <td>-0.172890</td>\n",
              "      <td>-0.170186</td>\n",
              "      <td>-0.211606</td>\n",
              "      <td>-0.250613</td>\n",
              "      <td>-0.117776</td>\n",
              "      <td>-0.293382</td>\n",
              "      <td>-1.114813</td>\n",
              "      <td>-0.703340</td>\n",
              "      <td>-1.525186</td>\n",
              "      <td>-1.073424</td>\n",
              "    </tr>\n",
              "  </tbody>\n",
              "</table>\n",
              "</div>"
            ],
            "text/plain": [
              "          PAY_0     PAY_2     PAY_3  ...  LIMIT_BAL_EDU  SEX_MARRIAGE  SEX_EDUCATION\n",
              "3225   0.014861  0.111736  1.809921  ...      -0.703340      0.414377       1.304354\n",
              "11815 -0.874991 -0.723570 -0.696663  ...       0.880284      1.060898       0.828798\n",
              "7338   1.794564  0.111736  0.138865  ...      -0.703340     -1.525186      -1.073424\n",
              "14980  1.794564  1.782348  1.809921  ...      -0.703340     -1.525186      -1.073424\n",
              "27167  0.014861  0.111736  0.138865  ...      -0.703340     -1.525186      -1.073424\n",
              "\n",
              "[5 rows x 22 columns]"
            ]
          },
          "metadata": {},
          "execution_count": 283
        }
      ]
    },
    {
      "cell_type": "markdown",
      "source": [
        "Ocena wpływu wszystkich zmiennych po utworzeniu nowych i usunięciu starych zmiennych."
      ],
      "metadata": {
        "id": "B4qHBuU7bJni"
      }
    },
    {
      "cell_type": "code",
      "metadata": {
        "colab": {
          "base_uri": "https://localhost:8080/",
          "height": 281
        },
        "id": "lteoDG1hzrBW",
        "outputId": "c1ae2ed3-b158-4474-c2ae-56aed9a8cd48"
      },
      "source": [
        "from sklearn.ensemble import RandomForestClassifier\n",
        "\n",
        "model = RandomForestClassifier()\n",
        "model.fit(X_train, y_train)\n",
        "feat_importances = pd.Series(model.feature_importances_, index=X.columns)\n",
        "feat_importances.nlargest(22).plot(kind='barh')\n",
        "plt.title('Feature importance')\n",
        "plt.show()"
      ],
      "execution_count": 284,
      "outputs": [
        {
          "output_type": "display_data",
          "data": {
            "image/png": "[encoded data removed]",
            "text/plain": [
              "<Figure size 432x288 with 1 Axes>"
            ]
          },
          "metadata": {
            "needs_background": "light"
          }
        }
      ]
    },
    {
      "cell_type": "code",
      "metadata": {
        "id": "oN_LtFSlqils"
      },
      "source": [
        " from sklearn.metrics import confusion_matrix, roc_curve, roc_auc_score\n",
        "\n",
        "def auc_score(model, X_test, y_test):\n",
        "  probs = model.predict_proba(X_test)[:,1] \n",
        "  auc = roc_auc_score(y_test, probs)\n",
        "  fpr, tpr, _ = roc_curve(y_test, probs)\n",
        "  return fpr, tpr, auc"
      ],
      "execution_count": 285,
      "outputs": []
    },
    {
      "cell_type": "code",
      "metadata": {
        "id": "nfVxnJExqkDP"
      },
      "source": [
        "auc_score_lda = auc_score(models[0], X_test, y_test)\n",
        "auc_score_xgboost = auc_score(models[1], X_test, y_test)\n",
        "auc_score_decision_tree = auc_score(models[2], X_test, y_test)\n",
        "auc_score_random_forest = auc_score(models[3], X_test, y_test)\n",
        "auc_score_neural_network = auc_score(models[4], X_test, y_test)"
      ],
      "execution_count": 286,
      "outputs": []
    },
    {
      "cell_type": "markdown",
      "metadata": {
        "id": "yiIupnkHzXTz"
      },
      "source": [
        "W celu oszacowania wpływu zmiennych, stwórzmy model testowy"
      ]
    },
    {
      "cell_type": "code",
      "metadata": {
        "id": "SP3vZxg4t9Bo"
      },
      "source": [
        "def create_report(model, X_test, y_test):\n",
        "  y_pred = model.predict(X_test)\n",
        "  cm = confusion_matrix(y_test, y_pred)\n",
        "  \n",
        "  accuracy = round(accuracy_score(y_test, y_pred), 2)\n",
        "  f1 = round(f1_score(y_true = y_test, y_pred = y_pred), 2)\n",
        "  auc = round(roc_auc_score(y_test, y_pred), 2)\n",
        "  \n",
        "  print('Accuracy: ' + str(accuracy))\n",
        "  print('F1 score: ' + str(f1))\n",
        "  print('AUC score: ' + str(auc))\n",
        "\n",
        "  return accuracy, f1, auc"
      ],
      "execution_count": 287,
      "outputs": []
    },
    {
      "cell_type": "markdown",
      "source": [
        "Obliczanie metryk"
      ],
      "metadata": {
        "id": "RYWpaTLXbW1q"
      }
    },
    {
      "cell_type": "code",
      "metadata": {
        "id": "7WJ4PnMat-Fc",
        "colab": {
          "base_uri": "https://localhost:8080/",
          "height": 0
        },
        "outputId": "d557df8b-0eb2-42ce-9593-72df2959a748"
      },
      "source": [
        "print('# LDA #')\n",
        "report_lda = create_report(models[0], X_test, y_test)\n",
        "print()\n",
        "print('# XGBOOST #')\n",
        "report_xgboost = create_report(models[1], X_test, y_test)\n",
        "print()\n",
        "print('# Decision tree #')\n",
        "report_desion_tree = create_report(models[2], X_test, y_test) \n",
        "print()\n",
        "print('# Random forest #')\n",
        "report_random_forest = create_report(models[3], X_test, y_test)\n",
        "print()\n",
        "print('# Neural network #')\n",
        "report_neural_network = create_report(models[4], X_test, y_test)"
      ],
      "execution_count": 288,
      "outputs": [
        {
          "output_type": "stream",
          "name": "stdout",
          "text": [
            "# LDA #\n",
            "Accuracy: 0.82\n",
            "F1 score: 0.37\n",
            "AUC score: 0.61\n",
            "\n",
            "# XGBOOST #\n",
            "Accuracy: 0.83\n",
            "F1 score: 0.48\n",
            "AUC score: 0.66\n",
            "\n",
            "# Decision tree #\n",
            "Accuracy: 0.83\n",
            "F1 score: 0.46\n",
            "AUC score: 0.65\n",
            "\n",
            "# Random forest #\n",
            "Accuracy: 0.82\n",
            "F1 score: 0.42\n",
            "AUC score: 0.63\n",
            "\n",
            "# Neural network #\n",
            "Accuracy: 0.82\n",
            "F1 score: 0.48\n",
            "AUC score: 0.66\n"
          ]
        }
      ]
    },
    {
      "cell_type": "code",
      "metadata": {
        "colab": {
          "base_uri": "https://localhost:8080/",
          "height": 639
        },
        "id": "EZ98V64EtwRL",
        "outputId": "558b3610-3fdc-4a01-d4a8-8e0d5f84814d"
      },
      "source": [
        " plt.figure(figsize=(16,10))\n",
        " plt.plot(auc_score_lda[0], auc_score_lda[1], color='orange',\n",
        "         label=f'AUC LDA: {report_lda[2]}')\n",
        "\n",
        "plt.plot(auc_score_xgboost[0], auc_score_xgboost[1], color='red',\n",
        "         label=f'AUC XGBoost: {report_xgboost[2]}')\n",
        "\n",
        "plt.plot(auc_score_decision_tree[0], auc_score_decision_tree[1], color='green',\n",
        "         label=f'AUC Decision tree: {report_desion_tree[2]}')\n",
        "\n",
        "plt.plot(auc_score_random_forest[0], auc_score_random_forest[1], color='blue',\n",
        "         label=f'AUC Random forest: {report_random_forest[2]}')\n",
        "\n",
        "plt.plot(report_neural_network[0], report_neural_network[1], color='blue',\n",
        "         label=f'AUC Neural network: {report_neural_network[2]}')\n",
        "\n",
        "plt.plot([0, 1], [0, 1], color='darkblue', linestyle='--')\n",
        "plt.xlabel('False Positive Rate')\n",
        "plt.ylabel('True Positive Rate')\n",
        "plt.title('ROC AUC CURVE')\n",
        "plt.legend()"
      ],
      "execution_count": 289,
      "outputs": [
        {
          "output_type": "execute_result",
          "data": {
            "text/plain": [
              "<matplotlib.legend.Legend at 0x7fc6cad61510>"
            ]
          },
          "metadata": {},
          "execution_count": 289
        },
        {
          "output_type": "display_data",
          "data": {
            "image/png": "[encoded data removed]",
            "text/plain": [
              "<Figure size 1152x720 with 1 Axes>"
            ]
          },
          "metadata": {
            "needs_background": "light"
          }
        }
      ]
    },
    {
      "cell_type": "markdown",
      "metadata": {
        "id": "oC_snhObc7tb"
      },
      "source": [
        "#4. **Dyskusja**"
      ]
    },
    {
      "cell_type": "markdown",
      "source": [
        "Po uzyskaniu wyników i przedstawieniu różnych wykresów, możemy stwierdzić i ocenić, który z modeli okazał się bardziej skuteczny w klasyfikacji binarnej. Do oceny modeli z małą nierównowagą klas, auc jest najlepszym rozwiązaniem, aby pokazać wyniki w bardziej przejrzysty sposób, ponieważ dokładność często daje \n",
        "błędne wyniki. \n",
        "\n",
        "Niestety model nie uległ dużej poprawie w wyniku wszystkich zmian, ale dwa typy modeli radziły sobie najlepiej: sieci neuronowe i xgboost. Wynik AUC wyniósł 0,66."
      ],
      "metadata": {
        "id": "Crn_RJZzbqdE"
      }
    }
  ]
}